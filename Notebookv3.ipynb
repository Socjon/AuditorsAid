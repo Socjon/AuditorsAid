{
 "cells": [
  {
   "cell_type": "markdown",
   "metadata": {
    "toc-hr-collapsed": false
   },
   "source": [
    "# Predicting the IRS 501(c) \n",
    "Jon Tyler  "
   ]
  },
  {
   "cell_type": "markdown",
   "metadata": {
    "toc-hr-collapsed": false
   },
   "source": [
    "  \n",
    "  \n",
    "\"The IRS maintains several important nonprofit databases to track the current population of exempt organizations, their annual 990 filings, and organizations that have closed. This data has been released in formats that are not always easy to use - ASCII text files, json files, and XML queries. In order to make the data accessible to the research community, [Jesse Lecy and a team](https://lecy.github.io/Open-Data-for-Nonprofit-Research/) have created scripts to download data from IRS websites, clean and process it, and export into familiar formats (CSV, Stata, SPSS, etc.).\" [Open Data for Nonprofit Research](https://github.com/lecy/Open-Data-for-Nonprofit-Research)  \n",
    "\n",
    "It is from the hard work in those notebooks that allowed me to explore this data set.  \n",
    "\n",
    "The IRS breaks down non-profit organzations into subgroups based on the type of work the orginzation does. There was a change in that coding guideline in 1995 where a new system was adopted - National Taxonomy of Exempt Entities (NTEE) Codes. I will attempt to to predict these categories (seen below) given other characteristics from their submitted tax forms."
   ]
  },
  {
   "cell_type": "markdown",
   "metadata": {},
   "source": [
    "NTEE Category | Definition\n",
    "---------|---------------\n",
    "A           |          Arts, Culture, and Humanities\n",
    "B           |          Education\n",
    "C           |          Environmental Quality, Protection, and Beautification\n",
    "D           |          Animal-Related\n",
    "E           |          Health\n",
    "F           |          Mental Health, Crisis Intervention\n",
    "G           |          Diseases, Disorders, Medical Disciplines\n",
    "H           |          Medical Research\n",
    "I           |          Crime, Legal Related\n",
    "J           |          Employment, Job Related\n",
    "K           |          Food, Agriculture, and Nutrition\n",
    "L           |          Housing, Shelter\n",
    "M           |          Public Safety\n",
    "N           |          Recreation, Sports, Leisure, Athletics\n",
    "O           |          Youth Development\n",
    "P           |          Human Services - Multipurpose and Other\n",
    "Q           |          International, Foreign Affairs, and National Security\n",
    "R           |          Civil Rights, Social Action, Advocacy\n",
    "S           |          Community Improvement, Capacity Building\n",
    "T           |          Philanthropy, Voluntarism, and Grantmaking Foundations\n",
    "U           |          Science and Technology Research Institutes, Services\n",
    "V           |          Social Science Research Institutes, Services\n",
    "W           |          Public, Society Benefit - Multipurpose and Other\n",
    "X           |          Religion Related, Spiritual Development\n",
    "Y           |          Mutual/Membership Benefit Organizations, Other\n",
    "Z           |          Unknown"
   ]
  },
  {
   "cell_type": "markdown",
   "metadata": {
    "toc-hr-collapsed": true
   },
   "source": [
    "## Obtaining the Data\n",
    "\n",
    "[Open Data for Nonprofit Research](https://github.com/lecy/Open-Data-for-Nonprofit-Research) produced a R code to query, pull, and save the IRS data. Please see [this](Data_pull_in_R.ipynb) notebook for further details."
   ]
  },
  {
   "cell_type": "markdown",
   "metadata": {
    "toc-hr-collapsed": true
   },
   "source": [
    "## Data cleaning\n",
    "\n",
    "Following the normal routine, import the dataset and make sure it was read correctly."
   ]
  },
  {
   "cell_type": "code",
   "execution_count": 1,
   "metadata": {},
   "outputs": [],
   "source": [
    "import pandas as pd\n",
    "import numpy as np\n",
    "import matplotlib.pyplot as plt\n",
    "plt.style.use('ggplot')"
   ]
  },
  {
   "cell_type": "code",
   "execution_count": 2,
   "metadata": {},
   "outputs": [
    {
     "data": {
      "text/html": [
       "<div>\n",
       "<style scoped>\n",
       "    .dataframe tbody tr th:only-of-type {\n",
       "        vertical-align: middle;\n",
       "    }\n",
       "\n",
       "    .dataframe tbody tr th {\n",
       "        vertical-align: top;\n",
       "    }\n",
       "\n",
       "    .dataframe thead th {\n",
       "        text-align: right;\n",
       "    }\n",
       "</style>\n",
       "<table border=\"1\" class=\"dataframe\">\n",
       "  <thead>\n",
       "    <tr style=\"text-align: right;\">\n",
       "      <th></th>\n",
       "      <th>EIN</th>\n",
       "      <th>NAME</th>\n",
       "      <th>ICO</th>\n",
       "      <th>STREET</th>\n",
       "      <th>CITY</th>\n",
       "      <th>STATE</th>\n",
       "      <th>ZIP</th>\n",
       "      <th>GROUP</th>\n",
       "      <th>SUBSECTION</th>\n",
       "      <th>AFFILIATION</th>\n",
       "      <th>...</th>\n",
       "      <th>ASSET_AMT</th>\n",
       "      <th>INCOME_AMT</th>\n",
       "      <th>REVENUE_AMT</th>\n",
       "      <th>NTEE_CD</th>\n",
       "      <th>SORT_NAME</th>\n",
       "      <th>RULEYEAR</th>\n",
       "      <th>LEVEL4</th>\n",
       "      <th>ACT1</th>\n",
       "      <th>ACT2</th>\n",
       "      <th>ACT3</th>\n",
       "    </tr>\n",
       "  </thead>\n",
       "  <tbody>\n",
       "    <tr>\n",
       "      <th>0</th>\n",
       "      <td>19818</td>\n",
       "      <td>PALMER SECOND BAPTIST CHURCH</td>\n",
       "      <td>NaN</td>\n",
       "      <td>1050 THORNDIKE ST</td>\n",
       "      <td>PALMER</td>\n",
       "      <td>MA</td>\n",
       "      <td>01069-1507</td>\n",
       "      <td>3125</td>\n",
       "      <td>3</td>\n",
       "      <td>9</td>\n",
       "      <td>...</td>\n",
       "      <td>NaN</td>\n",
       "      <td>NaN</td>\n",
       "      <td>NaN</td>\n",
       "      <td>NaN</td>\n",
       "      <td>3514</td>\n",
       "      <td>1955</td>\n",
       "      <td>NaN</td>\n",
       "      <td>100</td>\n",
       "      <td>0.0</td>\n",
       "      <td>0.0</td>\n",
       "    </tr>\n",
       "    <tr>\n",
       "      <th>1</th>\n",
       "      <td>29215</td>\n",
       "      <td>ST GEORGE CATHEDRAL</td>\n",
       "      <td>NaN</td>\n",
       "      <td>523 E BROADWAY</td>\n",
       "      <td>SOUTH BOSTON</td>\n",
       "      <td>MA</td>\n",
       "      <td>02127-4415</td>\n",
       "      <td>2365</td>\n",
       "      <td>3</td>\n",
       "      <td>9</td>\n",
       "      <td>...</td>\n",
       "      <td>NaN</td>\n",
       "      <td>NaN</td>\n",
       "      <td>NaN</td>\n",
       "      <td>NaN</td>\n",
       "      <td>NaN</td>\n",
       "      <td>1972</td>\n",
       "      <td>NaN</td>\n",
       "      <td>100</td>\n",
       "      <td>0.0</td>\n",
       "      <td>0.0</td>\n",
       "    </tr>\n",
       "    <tr>\n",
       "      <th>2</th>\n",
       "      <td>587764</td>\n",
       "      <td>IGLESIA BETHESDA INC</td>\n",
       "      <td>NaN</td>\n",
       "      <td>157 ANDOVER ST</td>\n",
       "      <td>LOWELL</td>\n",
       "      <td>MA</td>\n",
       "      <td>01852-2348</td>\n",
       "      <td>0</td>\n",
       "      <td>3</td>\n",
       "      <td>3</td>\n",
       "      <td>...</td>\n",
       "      <td>NaN</td>\n",
       "      <td>NaN</td>\n",
       "      <td>NaN</td>\n",
       "      <td>X21</td>\n",
       "      <td>NaN</td>\n",
       "      <td>2004</td>\n",
       "      <td>X</td>\n",
       "      <td>0</td>\n",
       "      <td>NaN</td>\n",
       "      <td>NaN</td>\n",
       "    </tr>\n",
       "    <tr>\n",
       "      <th>3</th>\n",
       "      <td>635913</td>\n",
       "      <td>MINISTERIO APOSTOLICO JESUCRISTO ES EL SENOR INC</td>\n",
       "      <td>NaN</td>\n",
       "      <td>454 ESSEX ST</td>\n",
       "      <td>LAWRENCE</td>\n",
       "      <td>MA</td>\n",
       "      <td>01840-1242</td>\n",
       "      <td>0</td>\n",
       "      <td>3</td>\n",
       "      <td>3</td>\n",
       "      <td>...</td>\n",
       "      <td>NaN</td>\n",
       "      <td>NaN</td>\n",
       "      <td>NaN</td>\n",
       "      <td>X21</td>\n",
       "      <td>NaN</td>\n",
       "      <td>2004</td>\n",
       "      <td>X</td>\n",
       "      <td>0</td>\n",
       "      <td>NaN</td>\n",
       "      <td>NaN</td>\n",
       "    </tr>\n",
       "    <tr>\n",
       "      <th>4</th>\n",
       "      <td>765634</td>\n",
       "      <td>MERCY CHAPEL INTERNATIONAL</td>\n",
       "      <td>NaN</td>\n",
       "      <td>75 MORTON VILLAGE DR APT 408</td>\n",
       "      <td>MATTAPAN</td>\n",
       "      <td>MA</td>\n",
       "      <td>02126-2433</td>\n",
       "      <td>0</td>\n",
       "      <td>3</td>\n",
       "      <td>3</td>\n",
       "      <td>...</td>\n",
       "      <td>NaN</td>\n",
       "      <td>NaN</td>\n",
       "      <td>NaN</td>\n",
       "      <td>X20</td>\n",
       "      <td>NaN</td>\n",
       "      <td>2004</td>\n",
       "      <td>X</td>\n",
       "      <td>0</td>\n",
       "      <td>NaN</td>\n",
       "      <td>NaN</td>\n",
       "    </tr>\n",
       "  </tbody>\n",
       "</table>\n",
       "<p>5 rows × 33 columns</p>\n",
       "</div>"
      ],
      "text/plain": [
       "      EIN                                              NAME  ICO  \\\n",
       "0   19818                      PALMER SECOND BAPTIST CHURCH  NaN   \n",
       "1   29215                               ST GEORGE CATHEDRAL  NaN   \n",
       "2  587764                              IGLESIA BETHESDA INC  NaN   \n",
       "3  635913  MINISTERIO APOSTOLICO JESUCRISTO ES EL SENOR INC  NaN   \n",
       "4  765634                        MERCY CHAPEL INTERNATIONAL  NaN   \n",
       "\n",
       "                         STREET          CITY STATE         ZIP  GROUP  \\\n",
       "0             1050 THORNDIKE ST        PALMER    MA  01069-1507   3125   \n",
       "1                523 E BROADWAY  SOUTH BOSTON    MA  02127-4415   2365   \n",
       "2                157 ANDOVER ST        LOWELL    MA  01852-2348      0   \n",
       "3                  454 ESSEX ST      LAWRENCE    MA  01840-1242      0   \n",
       "4  75 MORTON VILLAGE DR APT 408      MATTAPAN    MA  02126-2433      0   \n",
       "\n",
       "   SUBSECTION  AFFILIATION  ...   ASSET_AMT  INCOME_AMT  REVENUE_AMT  NTEE_CD  \\\n",
       "0           3            9  ...         NaN         NaN          NaN      NaN   \n",
       "1           3            9  ...         NaN         NaN          NaN      NaN   \n",
       "2           3            3  ...         NaN         NaN          NaN      X21   \n",
       "3           3            3  ...         NaN         NaN          NaN      X21   \n",
       "4           3            3  ...         NaN         NaN          NaN      X20   \n",
       "\n",
       "   SORT_NAME  RULEYEAR  LEVEL4  ACT1  ACT2  ACT3  \n",
       "0       3514      1955     NaN   100   0.0   0.0  \n",
       "1        NaN      1972     NaN   100   0.0   0.0  \n",
       "2        NaN      2004       X     0   NaN   NaN  \n",
       "3        NaN      2004       X     0   NaN   NaN  \n",
       "4        NaN      2004       X     0   NaN   NaN  \n",
       "\n",
       "[5 rows x 33 columns]"
      ]
     },
     "execution_count": 2,
     "metadata": {},
     "output_type": "execute_result"
    }
   ],
   "source": [
    "df = pd.read_csv('BusinessMasterFile.csv')\n",
    "df.head()"
   ]
  },
  {
   "cell_type": "code",
   "execution_count": 3,
   "metadata": {},
   "outputs": [
    {
     "name": "stdout",
     "output_type": "stream",
     "text": [
      "<class 'pandas.core.frame.DataFrame'>\n",
      "RangeIndex: 1691200 entries, 0 to 1691199\n",
      "Data columns (total 33 columns):\n",
      "EIN                 int64\n",
      "NAME                object\n",
      "ICO                 object\n",
      "STREET              object\n",
      "CITY                object\n",
      "STATE               object\n",
      "ZIP                 object\n",
      "GROUP               int64\n",
      "SUBSECTION          int64\n",
      "AFFILIATION         int64\n",
      "CLASSIFICATION      int64\n",
      "RULING              int64\n",
      "DEDUCTIBILITY       int64\n",
      "FOUNDATION          int64\n",
      "ACTIVITY            int64\n",
      "ORGANIZATION        int64\n",
      "STATUS              int64\n",
      "TAX_PERIOD          float64\n",
      "ASSET_CD            int64\n",
      "INCOME_CD           int64\n",
      "FILING_REQ_CD       int64\n",
      "PF_FILING_REQ_CD    int64\n",
      "ACCT_PD             int64\n",
      "ASSET_AMT           float64\n",
      "INCOME_AMT          float64\n",
      "REVENUE_AMT         float64\n",
      "NTEE_CD             object\n",
      "SORT_NAME           object\n",
      "RULEYEAR            int64\n",
      "LEVEL4              object\n",
      "ACT1                int64\n",
      "ACT2                float64\n",
      "ACT3                float64\n",
      "dtypes: float64(6), int64(18), object(9)\n",
      "memory usage: 425.8+ MB\n"
     ]
    }
   ],
   "source": [
    "df.info()"
   ]
  },
  {
   "cell_type": "code",
   "execution_count": 4,
   "metadata": {},
   "outputs": [
    {
     "data": {
      "text/plain": [
       "Index(['EIN', 'NAME', 'ICO', 'STREET', 'CITY', 'STATE', 'ZIP', 'GROUP',\n",
       "       'SUBSECTION', 'AFFILIATION', 'CLASSIFICATION', 'RULING',\n",
       "       'DEDUCTIBILITY', 'FOUNDATION', 'ACTIVITY', 'ORGANIZATION', 'STATUS',\n",
       "       'TAX_PERIOD', 'ASSET_CD', 'INCOME_CD', 'FILING_REQ_CD',\n",
       "       'PF_FILING_REQ_CD', 'ACCT_PD', 'ASSET_AMT', 'INCOME_AMT', 'REVENUE_AMT',\n",
       "       'NTEE_CD', 'SORT_NAME', 'RULEYEAR', 'LEVEL4', 'ACT1', 'ACT2', 'ACT3'],\n",
       "      dtype='object')"
      ]
     },
     "execution_count": 4,
     "metadata": {},
     "output_type": "execute_result"
    }
   ],
   "source": [
    "df.columns"
   ]
  },
  {
   "cell_type": "markdown",
   "metadata": {
    "toc-hr-collapsed": false
   },
   "source": [
    "### Column Description\n",
    "\n",
    "The following information is taken from official IRS documentation of this dataset. This documentation can be found [here](irs_jan_2010.pdf)\n",
    "\n",
    "| Column Name | Contents |\n",
    "|-------------|----------|\n",
    "| EIN |Employer Identification Number (EIN)|\n",
    "| NAME |Primary Name of Organization |\n",
    "| ICO  | In Care of Name|\n",
    "| STREET | Street Address|\n",
    "| CITY | City |\n",
    "| STATE | State |\n",
    "| ZIP | Zip Code |\n",
    "| GROUP |Group Exemption Number |\n",
    "|SUBSECTION | Subsection Code |\n",
    "| AFFILIATION | Affiliation Code(s) |\n",
    "| CLASSIFICATION | Classification Code(s)|\n",
    "| RULING | Ruling Date |\n",
    "| DEDUCTIBILITY | Deductibility Code |\n",
    "| FOUNDATION | Foundation Code |\n",
    "|  ACTIVITY | Activity Codes |\n",
    "| ORGANIZATION | Organization Code |\n",
    "| STATUS | Exempt Organization Status Code |\n",
    "| TAX_PERIOD | Tax Period |\n",
    "|ASSET_CD           |          Asset Code|\n",
    "|  INCOME_CD           |          Income Code|\n",
    "| FILING_REQ_CD     |          Filing Requirement Code |\n",
    "|  ACCT_PD           |          Accounting Period|\n",
    "| ASSET_AMT           |          Asset Amount |\n",
    "| INCOME_AMT           |          Income Amount (includes negative sign if amount is negative) |\n",
    "| REVENUE_AMT           |          Form 990 Revenue Amount (includes negative sign if amount is negative) |\n",
    "| NTEE_CD National           |          Taxonomy of Exempt Entities (NTEE) Code |\n",
    "SORT_NAME           |          Sort Name (Secondary Name Line) |\n",
    "\n",
    "There are a few additional columns that were created during the retrieval of the dataset.  \n",
    "- The variable `ACTIVITIES` consists of three separate 3-digit activity codes. These were split these into separate variables: `ACT1`, `ACT2`, `ACT3`. \n",
    "- `LEVEL4` broke down the entries with the `NTEE` coding into the major category.\n",
    "- `RULEYEAR` split out the year from `RULING` which was formatted as YYYY-MM"
   ]
  },
  {
   "cell_type": "markdown",
   "metadata": {},
   "source": [
    "Now lets investigate missing values."
   ]
  },
  {
   "cell_type": "code",
   "execution_count": 5,
   "metadata": {},
   "outputs": [
    {
     "data": {
      "text/plain": [
       "<matplotlib.axes._subplots.AxesSubplot at 0x252a757fd68>"
      ]
     },
     "execution_count": 5,
     "metadata": {},
     "output_type": "execute_result"
    },
    {
     "data": {
      "image/png": "[encoded data removed]",
      "text/plain": [
       "<Figure size 1800x720 with 2 Axes>"
      ]
     },
     "metadata": {
      "needs_background": "light"
     },
     "output_type": "display_data"
    }
   ],
   "source": [
    "import missingno as msno\n",
    "msno.matrix(df)"
   ]
  },
  {
   "cell_type": "code",
   "execution_count": 6,
   "metadata": {},
   "outputs": [
    {
     "data": {
      "text/plain": [
       "<matplotlib.axes._subplots.AxesSubplot at 0x252aef666d8>"
      ]
     },
     "execution_count": 6,
     "metadata": {},
     "output_type": "execute_result"
    },
    {
     "data": {
      "image/png": "[encoded data removed]",
      "text/plain": [
       "<Figure size 1440x864 with 1 Axes>"
      ]
     },
     "metadata": {
      "needs_background": "light"
     },
     "output_type": "display_data"
    }
   ],
   "source": [
    "msno.heatmap(df)"
   ]
  },
  {
   "cell_type": "markdown",
   "metadata": {},
   "source": [
    "As expected there is correlation between the different levels `ACT`. Also, as expected, a perfect correlation of missing values from `LEVEL4` and `NTEE_CD`. \n",
    "\n",
    "There is a clear pattern in the missing values from `REVENUE_AMT`, `ASSET_AMT`, `INCOME_AMT`, and `TAX_PERIOD`. So lets take a closer look at those columns."
   ]
  },
  {
   "cell_type": "code",
   "execution_count": 7,
   "metadata": {},
   "outputs": [
    {
     "name": "stdout",
     "output_type": "stream",
     "text": [
      "0.0        688791\n",
      "1000.0        296\n",
      "500.0         221\n",
      "5000.0        215\n",
      "100.0         214\n",
      "1.0           204\n",
      "10000.0       185\n",
      "2000.0        163\n",
      "3000.0        133\n",
      "200.0         129\n",
      "1500.0        122\n",
      "2500.0        116\n",
      "2.0           105\n",
      "6000.0        103\n",
      "300.0          99\n",
      "5.0            98\n",
      "Name: REVENUE_AMT, dtype: int64\n",
      "--------------------------------\n",
      "False    1212088\n",
      "True      479112\n",
      "Name: REVENUE_AMT, dtype: int64\n"
     ]
    }
   ],
   "source": [
    "print(df.REVENUE_AMT.value_counts()[:5])\n",
    "print('--------------------------------')\n",
    "print(df.REVENUE_AMT.isna().value_counts())"
   ]
  },
  {
   "cell_type": "code",
   "execution_count": 8,
   "metadata": {},
   "outputs": [
    {
     "name": "stdout",
     "output_type": "stream",
     "text": [
      "0.0        677902\n",
      "1.0         15623\n",
      "100.0         285\n",
      "1000.0        217\n",
      "500.0         191\n",
      "200.0         120\n",
      "2000.0        108\n",
      "5000.0        103\n",
      "10.0          101\n",
      "50.0           90\n",
      "300.0          83\n",
      "1500.0         81\n",
      "150.0          73\n",
      "10000.0        69\n",
      "25.0           69\n",
      "5.0            67\n",
      "Name: ASSET_AMT, dtype: int64\n",
      "--------------------------------\n",
      "368826\n",
      "--------------------------------\n",
      "0    1032113\n",
      "4     169004\n",
      "3     123873\n",
      "6     101784\n",
      "1      80491\n",
      "Name: ASSET_CD, dtype: int64\n",
      "--------------------------------\n",
      "0\n"
     ]
    }
   ],
   "source": [
    "print(df.ASSET_AMT.value_counts()[:5])\n",
    "print('--------------------------------')\n",
    "print(df.ASSET_AMT.isna().sum())\n",
    "print('--------------------------------')\n",
    "print(df.ASSET_CD.value_counts()[:5])\n",
    "print('--------------------------------')\n",
    "print(df.ASSET_CD.isna().sum())"
   ]
  },
  {
   "cell_type": "markdown",
   "metadata": {},
   "source": [
    "`ASSET_AMT` is continuous data, rather than the coded data in `ASSET_CD`, so I will keep the amounts reported over the IRS prebinned values. I can alter it myself if need be.  \n",
    "\n",
    "Through further look the the IRS [documentation](irs_jan_2010.pdf) of these columns, there seems to be some discrepancy in values from the coded and the reported, which makes my decision to drop the `_CD` versions of Income and Asset."
   ]
  },
  {
   "cell_type": "markdown",
   "metadata": {
    "toc-hr-collapsed": false
   },
   "source": [
    "### Scrub 1\n",
    "\n",
    "With over 1.6 million rows, this is large dataset. Starting things off, first drop the columns that I will not be using.  \n",
    "\n",
    "With my target going to be the Major Group the non-profit belongs to, I will drop the `LEVEL4` column as well. This is to ensure integrity of my models working or failing based on my own work, rather than relying on others.  \n",
    "\n",
    "I am planning to break the dataset into subsets: \n",
    "- Full dataset, recoding the old `ACTIVITY` codes into the NTEE Major Groups\n",
    "- Post-1995, only the IRS coded entities\n",
    "- Downsized portion, specifically with equal class sizes"
   ]
  },
  {
   "cell_type": "code",
   "execution_count": 9,
   "metadata": {},
   "outputs": [],
   "source": [
    "df.drop(['ICO', \n",
    "         'RULING',\n",
    "         'ACT1',\n",
    "         'ACT2', \n",
    "         'ACT3', \n",
    "         'ASSET_CD', \n",
    "         'INCOME_CD', \n",
    "         'LEVEL4', \n",
    "         'TAX_PERIOD'], axis=1, inplace=True)"
   ]
  },
  {
   "cell_type": "code",
   "execution_count": 10,
   "metadata": {},
   "outputs": [
    {
     "name": "stdout",
     "output_type": "stream",
     "text": [
      "<class 'pandas.core.frame.DataFrame'>\n",
      "RangeIndex: 1691200 entries, 0 to 1691199\n",
      "Data columns (total 24 columns):\n",
      "EIN                 int64\n",
      "NAME                object\n",
      "STREET              object\n",
      "CITY                object\n",
      "STATE               object\n",
      "ZIP                 object\n",
      "GROUP               int64\n",
      "SUBSECTION          int64\n",
      "AFFILIATION         int64\n",
      "CLASSIFICATION      int64\n",
      "DEDUCTIBILITY       int64\n",
      "FOUNDATION          int64\n",
      "ACTIVITY            int64\n",
      "ORGANIZATION        int64\n",
      "STATUS              int64\n",
      "FILING_REQ_CD       int64\n",
      "PF_FILING_REQ_CD    int64\n",
      "ACCT_PD             int64\n",
      "ASSET_AMT           float64\n",
      "INCOME_AMT          float64\n",
      "REVENUE_AMT         float64\n",
      "NTEE_CD             object\n",
      "SORT_NAME           object\n",
      "RULEYEAR            int64\n",
      "dtypes: float64(3), int64(14), object(7)\n",
      "memory usage: 309.7+ MB\n"
     ]
    }
   ],
   "source": [
    "df.info()"
   ]
  },
  {
   "cell_type": "markdown",
   "metadata": {},
   "source": [
    "Now lets figure out something to do with the missing values within the columns I kept."
   ]
  },
  {
   "cell_type": "code",
   "execution_count": 11,
   "metadata": {},
   "outputs": [
    {
     "data": {
      "text/plain": [
       "<matplotlib.axes._subplots.AxesSubplot at 0x252a3e31e10>"
      ]
     },
     "execution_count": 11,
     "metadata": {},
     "output_type": "execute_result"
    },
    {
     "data": {
      "image/png": "[encoded data removed]",
      "text/plain": [
       "<Figure size 1800x720 with 2 Axes>"
      ]
     },
     "metadata": {
      "needs_background": "light"
     },
     "output_type": "display_data"
    }
   ],
   "source": [
    "msno.matrix(df)"
   ]
  },
  {
   "cell_type": "markdown",
   "metadata": {},
   "source": [
    "There is a clear pattern of missing values from `ASSET_AMT`,`INCOME_AMT`, and `REVENUE_AMT`. I will drop values from one column, extending down the rows and then will recheck the patterns."
   ]
  },
  {
   "cell_type": "code",
   "execution_count": 12,
   "metadata": {},
   "outputs": [
    {
     "data": {
      "text/plain": [
       "<matplotlib.axes._subplots.AxesSubplot at 0x252bc51ddd8>"
      ]
     },
     "execution_count": 12,
     "metadata": {},
     "output_type": "execute_result"
    },
    {
     "data": {
      "image/png": "[encoded data removed]",
      "text/plain": [
       "<Figure size 1800x720 with 2 Axes>"
      ]
     },
     "metadata": {
      "needs_background": "light"
     },
     "output_type": "display_data"
    }
   ],
   "source": [
    "df = df.dropna(subset=['ASSET_AMT']) #Drop based on the subset column or columns\n",
    "msno.matrix(df)"
   ]
  },
  {
   "cell_type": "markdown",
   "metadata": {},
   "source": [
    "~370,000 entries were removed. "
   ]
  },
  {
   "cell_type": "code",
   "execution_count": 13,
   "metadata": {},
   "outputs": [
    {
     "data": {
      "text/plain": [
       "EIN                      0\n",
       "NAME                     0\n",
       "STREET                   2\n",
       "CITY                     0\n",
       "STATE                 1062\n",
       "ZIP                      0\n",
       "GROUP                    0\n",
       "SUBSECTION               0\n",
       "AFFILIATION              0\n",
       "CLASSIFICATION           0\n",
       "DEDUCTIBILITY            0\n",
       "FOUNDATION               0\n",
       "ACTIVITY                 0\n",
       "ORGANIZATION             0\n",
       "STATUS                   0\n",
       "FILING_REQ_CD            0\n",
       "PF_FILING_REQ_CD         0\n",
       "ACCT_PD                  0\n",
       "ASSET_AMT                0\n",
       "INCOME_AMT               0\n",
       "REVENUE_AMT         110286\n",
       "NTEE_CD             451552\n",
       "SORT_NAME           965875\n",
       "RULEYEAR                 0\n",
       "dtype: int64"
      ]
     },
     "execution_count": 13,
     "metadata": {},
     "output_type": "execute_result"
    }
   ],
   "source": [
    "df.isna().sum()"
   ]
  },
  {
   "cell_type": "markdown",
   "metadata": {},
   "source": [
    "The last 100K from `REVENUE_AMT` will be dropped as well. I will combine the `SORT_NAME` column with the `NAME` column since they both come from the same field, just a different line. `NTEE_CD` will be addressed seperately as well."
   ]
  },
  {
   "cell_type": "code",
   "execution_count": 14,
   "metadata": {},
   "outputs": [],
   "source": [
    "df = df.dropna(subset=['REVENUE_AMT'])"
   ]
  },
  {
   "cell_type": "code",
   "execution_count": 15,
   "metadata": {},
   "outputs": [
    {
     "data": {
      "text/plain": [
       "EIN                      0\n",
       "NAME                     0\n",
       "STREET                   2\n",
       "CITY                     0\n",
       "STATE                  940\n",
       "ZIP                      0\n",
       "GROUP                    0\n",
       "SUBSECTION               0\n",
       "AFFILIATION              0\n",
       "CLASSIFICATION           0\n",
       "DEDUCTIBILITY            0\n",
       "FOUNDATION               0\n",
       "ACTIVITY                 0\n",
       "ORGANIZATION             0\n",
       "STATUS                   0\n",
       "FILING_REQ_CD            0\n",
       "PF_FILING_REQ_CD         0\n",
       "ACCT_PD                  0\n",
       "ASSET_AMT                0\n",
       "INCOME_AMT               0\n",
       "REVENUE_AMT              0\n",
       "NTEE_CD             415581\n",
       "SORT_NAME           868547\n",
       "RULEYEAR                 0\n",
       "dtype: int64"
      ]
     },
     "execution_count": 15,
     "metadata": {},
     "output_type": "execute_result"
    }
   ],
   "source": [
    "df.isna().sum()"
   ]
  },
  {
   "cell_type": "markdown",
   "metadata": {},
   "source": [
    "Creating the full name of the group or organization, then dropping the excess columns "
   ]
  },
  {
   "cell_type": "code",
   "execution_count": 16,
   "metadata": {},
   "outputs": [
    {
     "data": {
      "text/html": [
       "<div>\n",
       "<style scoped>\n",
       "    .dataframe tbody tr th:only-of-type {\n",
       "        vertical-align: middle;\n",
       "    }\n",
       "\n",
       "    .dataframe tbody tr th {\n",
       "        vertical-align: top;\n",
       "    }\n",
       "\n",
       "    .dataframe thead th {\n",
       "        text-align: right;\n",
       "    }\n",
       "</style>\n",
       "<table border=\"1\" class=\"dataframe\">\n",
       "  <thead>\n",
       "    <tr style=\"text-align: right;\">\n",
       "      <th></th>\n",
       "      <th>EIN</th>\n",
       "      <th>STREET</th>\n",
       "      <th>CITY</th>\n",
       "      <th>STATE</th>\n",
       "      <th>ZIP</th>\n",
       "      <th>GROUP</th>\n",
       "      <th>SUBSECTION</th>\n",
       "      <th>AFFILIATION</th>\n",
       "      <th>CLASSIFICATION</th>\n",
       "      <th>DEDUCTIBILITY</th>\n",
       "      <th>...</th>\n",
       "      <th>STATUS</th>\n",
       "      <th>FILING_REQ_CD</th>\n",
       "      <th>PF_FILING_REQ_CD</th>\n",
       "      <th>ACCT_PD</th>\n",
       "      <th>ASSET_AMT</th>\n",
       "      <th>INCOME_AMT</th>\n",
       "      <th>REVENUE_AMT</th>\n",
       "      <th>NTEE_CD</th>\n",
       "      <th>RULEYEAR</th>\n",
       "      <th>NAME_FULL</th>\n",
       "    </tr>\n",
       "  </thead>\n",
       "  <tbody>\n",
       "    <tr>\n",
       "      <th>12</th>\n",
       "      <td>10002847</td>\n",
       "      <td>PO BOX 126</td>\n",
       "      <td>HULLS COVE</td>\n",
       "      <td>ME</td>\n",
       "      <td>04644-0126</td>\n",
       "      <td>0</td>\n",
       "      <td>3</td>\n",
       "      <td>3</td>\n",
       "      <td>1000</td>\n",
       "      <td>1</td>\n",
       "      <td>...</td>\n",
       "      <td>1</td>\n",
       "      <td>2</td>\n",
       "      <td>0</td>\n",
       "      <td>12</td>\n",
       "      <td>0.0</td>\n",
       "      <td>0.0</td>\n",
       "      <td>0.0</td>\n",
       "      <td>A80</td>\n",
       "      <td>2000</td>\n",
       "      <td>HULLS COVE NEIGHBORHOOD ASSOCIATION</td>\n",
       "    </tr>\n",
       "    <tr>\n",
       "      <th>13</th>\n",
       "      <td>10011694</td>\n",
       "      <td>30 SAMUEL PRESCOTT DR</td>\n",
       "      <td>STOW</td>\n",
       "      <td>MA</td>\n",
       "      <td>01775-1167</td>\n",
       "      <td>0</td>\n",
       "      <td>3</td>\n",
       "      <td>3</td>\n",
       "      <td>1000</td>\n",
       "      <td>1</td>\n",
       "      <td>...</td>\n",
       "      <td>1</td>\n",
       "      <td>2</td>\n",
       "      <td>0</td>\n",
       "      <td>12</td>\n",
       "      <td>0.0</td>\n",
       "      <td>0.0</td>\n",
       "      <td>0.0</td>\n",
       "      <td>S19</td>\n",
       "      <td>2015</td>\n",
       "      <td>MASSACHUSETTS MODERATORS ASSOCIATION</td>\n",
       "    </tr>\n",
       "    <tr>\n",
       "      <th>14</th>\n",
       "      <td>10015091</td>\n",
       "      <td>PO BOX 13</td>\n",
       "      <td>CEDAR KNOLLS</td>\n",
       "      <td>NJ</td>\n",
       "      <td>07927-0013</td>\n",
       "      <td>0</td>\n",
       "      <td>3</td>\n",
       "      <td>3</td>\n",
       "      <td>1000</td>\n",
       "      <td>1</td>\n",
       "      <td>...</td>\n",
       "      <td>1</td>\n",
       "      <td>1</td>\n",
       "      <td>0</td>\n",
       "      <td>12</td>\n",
       "      <td>62462.0</td>\n",
       "      <td>140685.0</td>\n",
       "      <td>140685.0</td>\n",
       "      <td>N64</td>\n",
       "      <td>2012</td>\n",
       "      <td>HANOVER SOCCER CLUB INC</td>\n",
       "    </tr>\n",
       "    <tr>\n",
       "      <th>15</th>\n",
       "      <td>10017496</td>\n",
       "      <td>PO BOX 534</td>\n",
       "      <td>YORK HARBOR</td>\n",
       "      <td>ME</td>\n",
       "      <td>03911-0534</td>\n",
       "      <td>0</td>\n",
       "      <td>3</td>\n",
       "      <td>3</td>\n",
       "      <td>2000</td>\n",
       "      <td>1</td>\n",
       "      <td>...</td>\n",
       "      <td>1</td>\n",
       "      <td>1</td>\n",
       "      <td>0</td>\n",
       "      <td>12</td>\n",
       "      <td>233819.0</td>\n",
       "      <td>180773.0</td>\n",
       "      <td>127013.0</td>\n",
       "      <td>NaN</td>\n",
       "      <td>1993</td>\n",
       "      <td>AGAMENTICUS YACHT CLUB OF YORK</td>\n",
       "    </tr>\n",
       "    <tr>\n",
       "      <th>16</th>\n",
       "      <td>10018555</td>\n",
       "      <td>81 COLLEGE AVE</td>\n",
       "      <td>ORONO</td>\n",
       "      <td>ME</td>\n",
       "      <td>04473-4210</td>\n",
       "      <td>287</td>\n",
       "      <td>7</td>\n",
       "      <td>9</td>\n",
       "      <td>1000</td>\n",
       "      <td>2</td>\n",
       "      <td>...</td>\n",
       "      <td>1</td>\n",
       "      <td>2</td>\n",
       "      <td>0</td>\n",
       "      <td>12</td>\n",
       "      <td>0.0</td>\n",
       "      <td>0.0</td>\n",
       "      <td>0.0</td>\n",
       "      <td>NaN</td>\n",
       "      <td>1941</td>\n",
       "      <td>ALPHA TAU OMEGA FRATERNITY BETA UPSILION MAINE...</td>\n",
       "    </tr>\n",
       "  </tbody>\n",
       "</table>\n",
       "<p>5 rows × 23 columns</p>\n",
       "</div>"
      ],
      "text/plain": [
       "         EIN                 STREET          CITY STATE         ZIP  GROUP  \\\n",
       "12  10002847             PO BOX 126    HULLS COVE    ME  04644-0126      0   \n",
       "13  10011694  30 SAMUEL PRESCOTT DR          STOW    MA  01775-1167      0   \n",
       "14  10015091              PO BOX 13  CEDAR KNOLLS    NJ  07927-0013      0   \n",
       "15  10017496             PO BOX 534   YORK HARBOR    ME  03911-0534      0   \n",
       "16  10018555         81 COLLEGE AVE         ORONO    ME  04473-4210    287   \n",
       "\n",
       "    SUBSECTION  AFFILIATION  CLASSIFICATION  DEDUCTIBILITY  \\\n",
       "12           3            3            1000              1   \n",
       "13           3            3            1000              1   \n",
       "14           3            3            1000              1   \n",
       "15           3            3            2000              1   \n",
       "16           7            9            1000              2   \n",
       "\n",
       "                          ...                          STATUS  FILING_REQ_CD  \\\n",
       "12                        ...                               1              2   \n",
       "13                        ...                               1              2   \n",
       "14                        ...                               1              1   \n",
       "15                        ...                               1              1   \n",
       "16                        ...                               1              2   \n",
       "\n",
       "    PF_FILING_REQ_CD  ACCT_PD  ASSET_AMT  INCOME_AMT  REVENUE_AMT  NTEE_CD  \\\n",
       "12                 0       12        0.0         0.0          0.0      A80   \n",
       "13                 0       12        0.0         0.0          0.0      S19   \n",
       "14                 0       12    62462.0    140685.0     140685.0      N64   \n",
       "15                 0       12   233819.0    180773.0     127013.0      NaN   \n",
       "16                 0       12        0.0         0.0          0.0      NaN   \n",
       "\n",
       "    RULEYEAR                                          NAME_FULL  \n",
       "12      2000               HULLS COVE NEIGHBORHOOD ASSOCIATION   \n",
       "13      2015              MASSACHUSETTS MODERATORS ASSOCIATION   \n",
       "14      2012                           HANOVER SOCCER CLUB INC   \n",
       "15      1993                    AGAMENTICUS YACHT CLUB OF YORK   \n",
       "16      1941  ALPHA TAU OMEGA FRATERNITY BETA UPSILION MAINE...  \n",
       "\n",
       "[5 rows x 23 columns]"
      ]
     },
     "execution_count": 16,
     "metadata": {},
     "output_type": "execute_result"
    }
   ],
   "source": [
    "df.SORT_NAME = df.SORT_NAME.fillna(value = '') #Replaces np.NaN values with something else, string + np.NaN = np.NaN\n",
    "df['NAME_FULL'] = df.NAME + ' ' + df.SORT_NAME #New column\n",
    "df.drop(['NAME', 'SORT_NAME'], axis=1, inplace=True) #Getting rid of the old\n",
    "df.head()"
   ]
  },
  {
   "cell_type": "code",
   "execution_count": 17,
   "metadata": {},
   "outputs": [
    {
     "data": {
      "text/plain": [
       "EIN                      0\n",
       "STREET                   2\n",
       "CITY                     0\n",
       "STATE                  940\n",
       "ZIP                      0\n",
       "GROUP                    0\n",
       "SUBSECTION               0\n",
       "AFFILIATION              0\n",
       "CLASSIFICATION           0\n",
       "DEDUCTIBILITY            0\n",
       "FOUNDATION               0\n",
       "ACTIVITY                 0\n",
       "ORGANIZATION             0\n",
       "STATUS                   0\n",
       "FILING_REQ_CD            0\n",
       "PF_FILING_REQ_CD         0\n",
       "ACCT_PD                  0\n",
       "ASSET_AMT                0\n",
       "INCOME_AMT               0\n",
       "REVENUE_AMT              0\n",
       "NTEE_CD             415581\n",
       "RULEYEAR                 0\n",
       "NAME_FULL                0\n",
       "dtype: int64"
      ]
     },
     "execution_count": 17,
     "metadata": {},
     "output_type": "execute_result"
    }
   ],
   "source": [
    "df.isna().sum()"
   ]
  },
  {
   "cell_type": "markdown",
   "metadata": {},
   "source": [
    "My target is going to `ACTIVITY`/`NTEE_CD`. The values in `ACTIVITY` are 9 characters long, each set of three indicating what kind of the organization it is. The codes used can be found [here](irs_jan_2010.pdf). There are some that needed more than one set of three to define their organization, others only have one. I plan to use only the first activity code, with the idea it would be the primary category. Also I have to keep in mind, there are groups that could apply to different targets based on all three activity codes. \n",
    "\n",
    "It is stated by [Open Data for Nonprofit Research](https://github.com/lecy/Open-Data-for-Nonprofit-Research) the data itself is not that clean. Effort will be made to tidy it up.\n",
    "\n",
    "The NTEE_CD code was introduced to replace the three digit code in 1995. I will make my own mapping from the old system to the new system. Lets take look at what I have at hand first. "
   ]
  },
  {
   "cell_type": "code",
   "execution_count": 18,
   "metadata": {},
   "outputs": [
    {
     "name": "stdout",
     "output_type": "stream",
     "text": [
      "<class 'pandas.core.frame.DataFrame'>\n",
      "Int64Index: 604936 entries, 12 to 1691194\n",
      "Data columns (total 23 columns):\n",
      "EIN                 604936 non-null int64\n",
      "STREET              604936 non-null object\n",
      "CITY                604936 non-null object\n",
      "STATE               604403 non-null object\n",
      "ZIP                 604936 non-null object\n",
      "GROUP               604936 non-null int64\n",
      "SUBSECTION          604936 non-null int64\n",
      "AFFILIATION         604936 non-null int64\n",
      "CLASSIFICATION      604936 non-null int64\n",
      "DEDUCTIBILITY       604936 non-null int64\n",
      "FOUNDATION          604936 non-null int64\n",
      "ACTIVITY            604936 non-null int64\n",
      "ORGANIZATION        604936 non-null int64\n",
      "STATUS              604936 non-null int64\n",
      "FILING_REQ_CD       604936 non-null int64\n",
      "PF_FILING_REQ_CD    604936 non-null int64\n",
      "ACCT_PD             604936 non-null int64\n",
      "ASSET_AMT           604936 non-null float64\n",
      "INCOME_AMT          604936 non-null float64\n",
      "REVENUE_AMT         604936 non-null float64\n",
      "NTEE_CD             604936 non-null object\n",
      "RULEYEAR            604936 non-null int64\n",
      "NAME_FULL           604936 non-null object\n",
      "dtypes: float64(3), int64(14), object(6)\n",
      "memory usage: 110.8+ MB\n"
     ]
    }
   ],
   "source": [
    "df.loc[(df.NTEE_CD.notna()) & (df.ACTIVITY == 0)].info()"
   ]
  },
  {
   "cell_type": "code",
   "execution_count": 19,
   "metadata": {},
   "outputs": [
    {
     "data": {
      "text/plain": [
       "796507"
      ]
     },
     "execution_count": 19,
     "metadata": {},
     "output_type": "execute_result"
    }
   ],
   "source": [
    "df.NTEE_CD.notna().sum()"
   ]
  },
  {
   "cell_type": "code",
   "execution_count": 20,
   "metadata": {},
   "outputs": [
    {
     "data": {
      "text/plain": [
       "415581"
      ]
     },
     "execution_count": 20,
     "metadata": {},
     "output_type": "execute_result"
    }
   ],
   "source": [
    "df.NTEE_CD.isna().sum()"
   ]
  },
  {
   "cell_type": "code",
   "execution_count": 21,
   "metadata": {},
   "outputs": [
    {
     "data": {
      "text/plain": [
       "0            648115\n",
       "59000000      12946\n",
       "907908000     11636\n",
       "59035000      11596\n",
       "205000000     10981\n",
       "36000000      10129\n",
       "263264279      9497\n",
       "200000000      9436\n",
       "319000000      8836\n",
       "59319000       8748\n",
       "Name: ACTIVITY, dtype: int64"
      ]
     },
     "execution_count": 21,
     "metadata": {},
     "output_type": "execute_result"
    }
   ],
   "source": [
    "df.ACTIVITY.value_counts()[:10]"
   ]
  },
  {
   "cell_type": "markdown",
   "metadata": {},
   "source": [
    "There is something wrong with the above `.value_counts()`.   \n",
    "\n",
    "The Activity Codes provided by the IRS have leading zeroes. Since there wasn't an attempt to control for it them when orginally reading the files, I want further to investigate if the `ACTIVITY` lines contain 9 characters. If they don't, I will adjust them accordingly."
   ]
  },
  {
   "cell_type": "code",
   "execution_count": 22,
   "metadata": {},
   "outputs": [],
   "source": [
    "temp = df.ACTIVITY"
   ]
  },
  {
   "cell_type": "code",
   "execution_count": 23,
   "metadata": {},
   "outputs": [
    {
     "data": {
      "text/plain": [
       "1    648115\n",
       "9    389701\n",
       "8    163953\n",
       "7     10319\n",
       "dtype: int64"
      ]
     },
     "execution_count": 23,
     "metadata": {},
     "output_type": "execute_result"
    }
   ],
   "source": [
    "length = []\n",
    "for x in temp:\n",
    "    length.append(len(str(x)))\n",
    "pd.Series(length).value_counts()"
   ]
  },
  {
   "cell_type": "markdown",
   "metadata": {},
   "source": [
    "As expected, adjustments are need. Make a small function that will adjust the `ACTIVITY` input to match the 9 character length expected."
   ]
  },
  {
   "cell_type": "code",
   "execution_count": 24,
   "metadata": {},
   "outputs": [],
   "source": [
    "def adj_len(num):\n",
    "    string = str(num)\n",
    "    \n",
    "    if len(string) >= 7:\n",
    "        \n",
    "        if len(string) == 9:\n",
    "            return int(string[0:3])\n",
    "        if len(string) == 8:\n",
    "            return int(string[0:2])\n",
    "        if len(string) == 7:\n",
    "            return int(string[0:1])\n",
    "    else:\n",
    "        return num\n",
    "    "
   ]
  },
  {
   "cell_type": "code",
   "execution_count": 25,
   "metadata": {},
   "outputs": [
    {
     "name": "stdout",
     "output_type": "stream",
     "text": [
      "Produced: 123 Expected: 123\n",
      "-----------------\n",
      "Produced: 42 Expected: 42\n",
      "-----------------\n",
      "Produced: 12 Expected: 12\n",
      "-----------------\n",
      "Produced: 1 Expected: 1\n",
      "-----------------\n"
     ]
    }
   ],
   "source": [
    "print(f'Produced: {adj_len(123456789)} Expected: 123')\n",
    "print('-----------------')\n",
    "print(f'Produced: {adj_len(42)} Expected: 42')\n",
    "print('-----------------')\n",
    "print(f'Produced: {adj_len(12345678)} Expected: 12')\n",
    "print('-----------------')\n",
    "print(f'Produced: {adj_len(1234567)} Expected: 1')\n",
    "print('-----------------')"
   ]
  },
  {
   "cell_type": "code",
   "execution_count": 26,
   "metadata": {},
   "outputs": [],
   "source": [
    "def code_NTEE_V1(y):\n",
    "    \n",
    "    x = adj_len(y)\n",
    "    \n",
    "    list_a =list(range(60,120))\n",
    "    list_b =list(range(30,60)) + [540, 914]\n",
    "    list_c =list(range(350,380)) + [529]\n",
    "    list_d =[913]\n",
    "    list_e =list(range(150,180)) + [531] + list(range(541,544))\n",
    "    list_f = []\n",
    "    list_g = []\n",
    "    list_h = []\n",
    "    list_i =list(range(460,466)) + [406, 526, 527, 528]\n",
    "    list_j =list(range(120,150)) + list(range(200,230)) + [920]\n",
    "    list_k =list(range(230,250)) + [916]\n",
    "    list_l =list(range(380,400)) + [401]\n",
    "    list_m =[902]\n",
    "    list_n =list(range(280,320))\n",
    "    list_o =list(range(320,350))\n",
    "    list_p =list(range(563,576)) + [917, 918]\n",
    "    list_q =list(range(510,514)) + [518, 519, 520, 522, 910, 911, 912]\n",
    "    list_r =list(range(430,450)) + list(range(480,510)) + [261, 405, 481, 482, 534, 535, 924]\n",
    "    list_s =list(range(408,430)) + [404, 524, 533, 903, 919, 921]\n",
    "    list_t =list(range(600,604)) + list(range(560,563))\n",
    "    list_u =list(range(180,200)) \n",
    "    list_v = []\n",
    "    list_w =list(range(250,253)) + list(range(536,540)) + list(range(905,909)) + [262, 263, 400, 402, 403, 407, 514, 515, 516, 521, 523, 525, 530 , 532, 559, 915]\n",
    "    list_x =list(range(1,30)) + [517]\n",
    "    list_y =list(range(264,280)) + [253, 254, 259, 260, 900, 901, 922]\n",
    "    list_z = []\n",
    "\n",
    "    if x in list_a:\n",
    "        return 'A'\n",
    "    if x in list_b:\n",
    "        return 'B'\n",
    "    if x in list_c:\n",
    "        return 'C'\n",
    "    if x in list_d:\n",
    "        return 'D'\n",
    "    if x in list_e:\n",
    "        return 'E'\n",
    "    if x in list_f:\n",
    "        return 'F'\n",
    "    if x in list_g:\n",
    "        return 'G'\n",
    "    if x in list_h:\n",
    "        return 'H'\n",
    "    if x in list_i:\n",
    "        return 'I'\n",
    "    if x in list_j:\n",
    "        return 'J'\n",
    "    if x in list_k:\n",
    "        return 'K'\n",
    "    if x in list_l:\n",
    "        return 'L' \n",
    "    if x in list_m:\n",
    "        return 'M'\n",
    "    if x in list_n:\n",
    "        return 'N'\n",
    "    if x in list_o:\n",
    "        return 'O'\n",
    "    if x in list_p:\n",
    "        return 'P'\n",
    "    if x in list_q:\n",
    "        return 'Q'\n",
    "    if x in list_r:\n",
    "        return 'R'\n",
    "    if x in list_s:\n",
    "        return 'S'\n",
    "    if x in list_t:\n",
    "        return 'T'\n",
    "    if x in list_u:\n",
    "        return 'U'\n",
    "    if x in list_v:\n",
    "        return 'V'\n",
    "    if x in list_w:\n",
    "        return 'W'\n",
    "    if x in list_x:\n",
    "        return 'X'\n",
    "    if x in list_y:\n",
    "        return 'Y'\n",
    "    if x in list_z:\n",
    "        return 'Z'\n",
    "    else:\n",
    "        trouble.append(x)\n",
    "        \n",
    "    "
   ]
  },
  {
   "cell_type": "markdown",
   "metadata": {},
   "source": [
    "Now for create a quick tester set to run through my functions."
   ]
  },
  {
   "cell_type": "code",
   "execution_count": 27,
   "metadata": {},
   "outputs": [],
   "source": [
    "small = df[:200]"
   ]
  },
  {
   "cell_type": "code",
   "execution_count": 28,
   "metadata": {},
   "outputs": [
    {
     "name": "stdout",
     "output_type": "stream",
     "text": [
      "J\n"
     ]
    }
   ],
   "source": [
    "print(code_NTEE_V1(205000000))"
   ]
  },
  {
   "cell_type": "markdown",
   "metadata": {},
   "source": [
    "Test something with a leading zero, or an `ACTIVITY` that does not have 9 characters "
   ]
  },
  {
   "cell_type": "code",
   "execution_count": 29,
   "metadata": {},
   "outputs": [
    {
     "name": "stdout",
     "output_type": "stream",
     "text": [
      "{0, 994, 995, 999, 927}\n",
      "18\n"
     ]
    }
   ],
   "source": [
    "trouble = [] #Within my small data set, any codes that don't have a new label\n",
    "small.ACTIVITY.apply(code_NTEE_V1)\n",
    "print(set(trouble))\n",
    "print(len(trouble))"
   ]
  },
  {
   "cell_type": "markdown",
   "metadata": {},
   "source": [
    "With the quick check, there are codes that were not coded. This was to be expected. Within `trouble`, none of these are defined by the IRS. I suspect this set to grown once applied to the larger dataset.  \n",
    "\n",
    "Within the process, I will update the master list with proper categorizations through out. The mapping will be adjusted accordingly. Please see the IRS documentation if further review is desired."
   ]
  },
  {
   "cell_type": "markdown",
   "metadata": {},
   "source": [
    "\n",
    "\n",
    "Before applying the function to the entire dataset, lets take care of the subset of rows that will not have any targets variable at all."
   ]
  },
  {
   "cell_type": "code",
   "execution_count": 30,
   "metadata": {},
   "outputs": [
    {
     "data": {
      "text/plain": [
       "415581"
      ]
     },
     "execution_count": 30,
     "metadata": {},
     "output_type": "execute_result"
    }
   ],
   "source": [
    "df.NTEE_CD.isna().sum()"
   ]
  },
  {
   "cell_type": "code",
   "execution_count": 31,
   "metadata": {},
   "outputs": [
    {
     "name": "stdout",
     "output_type": "stream",
     "text": [
      "(43179, 23)\n"
     ]
    },
    {
     "data": {
      "text/html": [
       "<div>\n",
       "<style scoped>\n",
       "    .dataframe tbody tr th:only-of-type {\n",
       "        vertical-align: middle;\n",
       "    }\n",
       "\n",
       "    .dataframe tbody tr th {\n",
       "        vertical-align: top;\n",
       "    }\n",
       "\n",
       "    .dataframe thead th {\n",
       "        text-align: right;\n",
       "    }\n",
       "</style>\n",
       "<table border=\"1\" class=\"dataframe\">\n",
       "  <thead>\n",
       "    <tr style=\"text-align: right;\">\n",
       "      <th></th>\n",
       "      <th>EIN</th>\n",
       "      <th>STREET</th>\n",
       "      <th>CITY</th>\n",
       "      <th>STATE</th>\n",
       "      <th>ZIP</th>\n",
       "      <th>GROUP</th>\n",
       "      <th>SUBSECTION</th>\n",
       "      <th>AFFILIATION</th>\n",
       "      <th>CLASSIFICATION</th>\n",
       "      <th>DEDUCTIBILITY</th>\n",
       "      <th>...</th>\n",
       "      <th>STATUS</th>\n",
       "      <th>FILING_REQ_CD</th>\n",
       "      <th>PF_FILING_REQ_CD</th>\n",
       "      <th>ACCT_PD</th>\n",
       "      <th>ASSET_AMT</th>\n",
       "      <th>INCOME_AMT</th>\n",
       "      <th>REVENUE_AMT</th>\n",
       "      <th>NTEE_CD</th>\n",
       "      <th>RULEYEAR</th>\n",
       "      <th>NAME_FULL</th>\n",
       "    </tr>\n",
       "  </thead>\n",
       "  <tbody>\n",
       "    <tr>\n",
       "      <th>32</th>\n",
       "      <td>10027415</td>\n",
       "      <td>1 TUFTS RD</td>\n",
       "      <td>BELFAST</td>\n",
       "      <td>ME</td>\n",
       "      <td>04915-7513</td>\n",
       "      <td>275</td>\n",
       "      <td>8</td>\n",
       "      <td>9</td>\n",
       "      <td>1000</td>\n",
       "      <td>0</td>\n",
       "      <td>...</td>\n",
       "      <td>1</td>\n",
       "      <td>2</td>\n",
       "      <td>0</td>\n",
       "      <td>3</td>\n",
       "      <td>0.0</td>\n",
       "      <td>0.0</td>\n",
       "      <td>0.0</td>\n",
       "      <td>NaN</td>\n",
       "      <td>0</td>\n",
       "      <td>ANCIENT FREE &amp; ACCEPTED MASONS OF MAINE 24 BEL...</td>\n",
       "    </tr>\n",
       "    <tr>\n",
       "      <th>49</th>\n",
       "      <td>10055140</td>\n",
       "      <td>10 LITCHFIELD RD</td>\n",
       "      <td>HALLOWELL</td>\n",
       "      <td>ME</td>\n",
       "      <td>04347-1109</td>\n",
       "      <td>0</td>\n",
       "      <td>13</td>\n",
       "      <td>3</td>\n",
       "      <td>1000</td>\n",
       "      <td>0</td>\n",
       "      <td>...</td>\n",
       "      <td>1</td>\n",
       "      <td>1</td>\n",
       "      <td>0</td>\n",
       "      <td>6</td>\n",
       "      <td>546481.0</td>\n",
       "      <td>51568.0</td>\n",
       "      <td>36162.0</td>\n",
       "      <td>NaN</td>\n",
       "      <td>1976</td>\n",
       "      <td>HALLOWELL CENTENNIAL BURIAL GROUND ASSN INC</td>\n",
       "    </tr>\n",
       "    <tr>\n",
       "      <th>78</th>\n",
       "      <td>10114110</td>\n",
       "      <td>150 CAPITOL ST STE 5</td>\n",
       "      <td>AUGUSTA</td>\n",
       "      <td>ME</td>\n",
       "      <td>04330-6858</td>\n",
       "      <td>0</td>\n",
       "      <td>6</td>\n",
       "      <td>0</td>\n",
       "      <td>1000</td>\n",
       "      <td>0</td>\n",
       "      <td>...</td>\n",
       "      <td>1</td>\n",
       "      <td>1</td>\n",
       "      <td>0</td>\n",
       "      <td>9</td>\n",
       "      <td>142899.0</td>\n",
       "      <td>431279.0</td>\n",
       "      <td>431279.0</td>\n",
       "      <td>NaN</td>\n",
       "      <td>0</td>\n",
       "      <td>MAINE WATER UTILITIES ASSOCIATION</td>\n",
       "    </tr>\n",
       "    <tr>\n",
       "      <th>300</th>\n",
       "      <td>10216657</td>\n",
       "      <td>952 MAIN ST</td>\n",
       "      <td>SANFORD</td>\n",
       "      <td>ME</td>\n",
       "      <td>04073-3509</td>\n",
       "      <td>0</td>\n",
       "      <td>3</td>\n",
       "      <td>3</td>\n",
       "      <td>1200</td>\n",
       "      <td>1</td>\n",
       "      <td>...</td>\n",
       "      <td>1</td>\n",
       "      <td>1</td>\n",
       "      <td>0</td>\n",
       "      <td>6</td>\n",
       "      <td>1927624.0</td>\n",
       "      <td>624695.0</td>\n",
       "      <td>538612.0</td>\n",
       "      <td>NaN</td>\n",
       "      <td>1987</td>\n",
       "      <td>SANFORD LIBRARY ASSOCIATION LOUIS B GOODALL ME...</td>\n",
       "    </tr>\n",
       "    <tr>\n",
       "      <th>331</th>\n",
       "      <td>10220348</td>\n",
       "      <td>PO BOX 422</td>\n",
       "      <td>FARMINGTON</td>\n",
       "      <td>ME</td>\n",
       "      <td>04938-0422</td>\n",
       "      <td>5930</td>\n",
       "      <td>3</td>\n",
       "      <td>9</td>\n",
       "      <td>2000</td>\n",
       "      <td>1</td>\n",
       "      <td>...</td>\n",
       "      <td>1</td>\n",
       "      <td>2</td>\n",
       "      <td>0</td>\n",
       "      <td>6</td>\n",
       "      <td>0.0</td>\n",
       "      <td>0.0</td>\n",
       "      <td>0.0</td>\n",
       "      <td>NaN</td>\n",
       "      <td>2013</td>\n",
       "      <td>UNIVERSITY OF MAINE SYSTEM INC FRANKLIN COUNTY...</td>\n",
       "    </tr>\n",
       "  </tbody>\n",
       "</table>\n",
       "<p>5 rows × 23 columns</p>\n",
       "</div>"
      ],
      "text/plain": [
       "          EIN                STREET        CITY STATE         ZIP  GROUP  \\\n",
       "32   10027415            1 TUFTS RD     BELFAST    ME  04915-7513    275   \n",
       "49   10055140      10 LITCHFIELD RD   HALLOWELL    ME  04347-1109      0   \n",
       "78   10114110  150 CAPITOL ST STE 5     AUGUSTA    ME  04330-6858      0   \n",
       "300  10216657           952 MAIN ST     SANFORD    ME  04073-3509      0   \n",
       "331  10220348            PO BOX 422  FARMINGTON    ME  04938-0422   5930   \n",
       "\n",
       "     SUBSECTION  AFFILIATION  CLASSIFICATION  DEDUCTIBILITY  \\\n",
       "32            8            9            1000              0   \n",
       "49           13            3            1000              0   \n",
       "78            6            0            1000              0   \n",
       "300           3            3            1200              1   \n",
       "331           3            9            2000              1   \n",
       "\n",
       "                           ...                          STATUS  FILING_REQ_CD  \\\n",
       "32                         ...                               1              2   \n",
       "49                         ...                               1              1   \n",
       "78                         ...                               1              1   \n",
       "300                        ...                               1              1   \n",
       "331                        ...                               1              2   \n",
       "\n",
       "     PF_FILING_REQ_CD  ACCT_PD  ASSET_AMT  INCOME_AMT  REVENUE_AMT  NTEE_CD  \\\n",
       "32                  0        3        0.0         0.0          0.0      NaN   \n",
       "49                  0        6   546481.0     51568.0      36162.0      NaN   \n",
       "78                  0        9   142899.0    431279.0     431279.0      NaN   \n",
       "300                 0        6  1927624.0    624695.0     538612.0      NaN   \n",
       "331                 0        6        0.0         0.0          0.0      NaN   \n",
       "\n",
       "     RULEYEAR                                          NAME_FULL  \n",
       "32          0  ANCIENT FREE & ACCEPTED MASONS OF MAINE 24 BEL...  \n",
       "49       1976       HALLOWELL CENTENNIAL BURIAL GROUND ASSN INC   \n",
       "78          0                 MAINE WATER UTILITIES ASSOCIATION   \n",
       "300      1987  SANFORD LIBRARY ASSOCIATION LOUIS B GOODALL ME...  \n",
       "331      2013  UNIVERSITY OF MAINE SYSTEM INC FRANKLIN COUNTY...  \n",
       "\n",
       "[5 rows x 23 columns]"
      ]
     },
     "execution_count": 31,
     "metadata": {},
     "output_type": "execute_result"
    }
   ],
   "source": [
    "print(df[(df.NTEE_CD.isna()) & (df.ACTIVITY == 0)].shape)\n",
    "df[(df.NTEE_CD.isna()) & (df.ACTIVITY == 0)].head()"
   ]
  },
  {
   "cell_type": "code",
   "execution_count": 32,
   "metadata": {},
   "outputs": [
    {
     "name": "stdout",
     "output_type": "stream",
     "text": [
      "From (1212088, 23) rows, down to (1168909, 23) rows\n"
     ]
    }
   ],
   "source": [
    "before = df.shape\n",
    "\n",
    "mask = df.index[(df.NTEE_CD.isna()) & (df.ACTIVITY == 0)] #index numbers to drop\n",
    "df = df.drop(mask)\n",
    "\n",
    "after = df.shape\n",
    "\n",
    "print(f'From {before} rows, down to {after} rows')"
   ]
  },
  {
   "cell_type": "markdown",
   "metadata": {},
   "source": [
    "Finally, lets apply our `code_NTEE_V1` function to our dataset. Since there were codes that were no already defined, lets just collect a list of them and then update a new version of my function with those values."
   ]
  },
  {
   "cell_type": "code",
   "execution_count": 33,
   "metadata": {},
   "outputs": [
    {
     "data": {
      "text/plain": [
       "{0,\n",
       " 451,\n",
       " 556,\n",
       " 578,\n",
       " 605,\n",
       " 607,\n",
       " 610,\n",
       " 630,\n",
       " 632,\n",
       " 650,\n",
       " 651,\n",
       " 659,\n",
       " 681,\n",
       " 700,\n",
       " 705,\n",
       " 713,\n",
       " 720,\n",
       " 740,\n",
       " 750,\n",
       " 760,\n",
       " 787,\n",
       " 801,\n",
       " 850,\n",
       " 860,\n",
       " 899,\n",
       " 904,\n",
       " 909,\n",
       " 923,\n",
       " 925,\n",
       " 926,\n",
       " 927,\n",
       " 928,\n",
       " 930,\n",
       " 931,\n",
       " 933,\n",
       " 967,\n",
       " 990,\n",
       " 993,\n",
       " 994,\n",
       " 995,\n",
       " 998,\n",
       " 999}"
      ]
     },
     "execution_count": 33,
     "metadata": {},
     "output_type": "execute_result"
    }
   ],
   "source": [
    "trouble = [] #the code_NTEE(X) function has a list to check the missing variables\n",
    "look = df.ACTIVITY.apply(code_NTEE_V1)\n",
    "set(trouble)"
   ]
  },
  {
   "cell_type": "markdown",
   "metadata": {},
   "source": [
    "At this point, I updated my `code_NTEE` function. Open Data for Nonprofit Research recommended [Urban Center for Charitable Statistics](https://nccs.urban.org/publication/irs-activity-codes) site to further identify unfamiliar codes.  \n",
    "\n",
    "I updated lists and created a new list for undefined codes. Also, there were a few ambigious codings that I have decided to drop altogeter. These includes definitions such as \"Indians (tribes, cultures, etc.)\" , \"Government instrumentality or agency\", and \"947(a)(2) trust\". Further man hours are required to shift through the material to categorize them with even more accuracy.  "
   ]
  },
  {
   "cell_type": "markdown",
   "metadata": {},
   "source": [
    "### Scrub 2\n",
    "Using the updated `code_NTEE_V2` function below, I will move forward with the data cleaning process."
   ]
  },
  {
   "cell_type": "code",
   "execution_count": 34,
   "metadata": {},
   "outputs": [],
   "source": [
    "def code_NTEE_V2(y):\n",
    "    \n",
    "    x = adj_len(y)\n",
    "    \n",
    "    list_a =list(range(60,120))\n",
    "    list_b =list(range(30,60)) + [540, 914]\n",
    "    list_c =list(range(350,380)) + [529]\n",
    "    list_d =[913]\n",
    "    list_e =list(range(150,180)) + [531] + list(range(541,544))\n",
    "    list_f = []\n",
    "    list_g = []\n",
    "    list_h = []\n",
    "    list_i =list(range(460,466)) + [406, 526, 527, 528]\n",
    "    list_j =list(range(120,150)) + list(range(200,230)) + [920]\n",
    "    list_k =list(range(230,250)) + [916]\n",
    "    list_l =list(range(380,400)) + [401]\n",
    "    list_m =[902]\n",
    "    list_n =list(range(280,320))\n",
    "    list_o =list(range(320,350))\n",
    "    list_p =list(range(563,576)) + [917, 918]\n",
    "    list_q =list(range(510,514)) + [518, 519, 520, 522, 910, 911, 912]\n",
    "    list_r =list(range(430,450)) + list(range(480,510)) + [261, 405, 481, 482, 534, 535, 924]\n",
    "    list_s =list(range(408,430)) + [404, 524, 533, 903, 919, 921]\n",
    "    list_t =list(range(600,604)) + list(range(560,563))\n",
    "    list_u =list(range(180,200)) \n",
    "    list_v = []\n",
    "    list_w =list(range(250,253)) + list(range(536,540)) + list(range(905,909)) + [262, 263, 400, 402, 403, 407, 514, 515, 516, 521, 523, 525, 530 , 532, 559, 915]\n",
    "    list_x =list(range(1,30)) + [517]\n",
    "    list_y =list(range(264,280)) + [253, 254, 259, 260, 900, 901, 922]\n",
    "    list_z = []\n",
    "    \n",
    "    too_vague = [904, 909, 923] + list(range(925,999))\n",
    "    not_defined = [256, 257, 466,469, 470, 556, 557, 999] + list(range(450,460)) + list(range(484, 509)) + list(range(576, 600)) + list(range(603,900)) + too_vague\n",
    "\n",
    "    if x == 0:\n",
    "        return None\n",
    "    if x in list_a:\n",
    "        return 'A'\n",
    "    if x in list_b:\n",
    "        return 'B'\n",
    "    if x in list_c:\n",
    "        return 'C'\n",
    "    if x in list_d:\n",
    "        return 'D'\n",
    "    if x in list_e:\n",
    "        return 'E'\n",
    "    if x in list_f:\n",
    "        return 'F'\n",
    "    if x in list_g:\n",
    "        return 'G'\n",
    "    if x in list_h:\n",
    "        return 'H'\n",
    "    if x in list_i:\n",
    "        return 'I'\n",
    "    if x in list_j:\n",
    "        return 'J'\n",
    "    if x in list_k:\n",
    "        return 'K'\n",
    "    if x in list_l:\n",
    "        return 'L' \n",
    "    if x in list_m:\n",
    "        return 'M'\n",
    "    if x in list_n:\n",
    "        return 'N'\n",
    "    if x in list_o:\n",
    "        return 'O'\n",
    "    if x in list_p:\n",
    "        return 'P'\n",
    "    if x in list_q:\n",
    "        return 'Q'\n",
    "    if x in list_r:\n",
    "        return 'R'\n",
    "    if x in list_s:\n",
    "        return 'S'\n",
    "    if x in list_t:\n",
    "        return 'T'\n",
    "    if x in list_u:\n",
    "        return 'U'\n",
    "    if x in list_v:\n",
    "        return 'V'\n",
    "    if x in list_w:\n",
    "        return 'W'\n",
    "    if x in list_x:\n",
    "        return 'X'\n",
    "    if x in list_y:\n",
    "        return 'Y'\n",
    "    if x in list_z:\n",
    "        return 'Z'\n",
    "    if x in not_defined:\n",
    "        return None\n",
    "    else:\n",
    "        trouble.append(x)\n",
    "        \n",
    "    "
   ]
  },
  {
   "cell_type": "code",
   "execution_count": 35,
   "metadata": {},
   "outputs": [
    {
     "data": {
      "text/plain": [
       "[]"
      ]
     },
     "execution_count": 35,
     "metadata": {},
     "output_type": "execute_result"
    }
   ],
   "source": [
    "trouble = [] #the code_NTEE(X) function has a list to check the missing variables\n",
    "look = df.ACTIVITY.apply(code_NTEE_V2)\n",
    "trouble"
   ]
  },
  {
   "cell_type": "markdown",
   "metadata": {},
   "source": [
    "There were no trouble codes anymore. We will merge the changes and tidy up the last few things wrong with the data.\n",
    "Keep in mind that this step heavily effects the target outcome in the joint dataset. This is can be a point of improvements in any further analysis of this data."
   ]
  },
  {
   "cell_type": "code",
   "execution_count": 36,
   "metadata": {},
   "outputs": [
    {
     "data": {
      "text/plain": [
       "372402"
      ]
     },
     "execution_count": 36,
     "metadata": {},
     "output_type": "execute_result"
    }
   ],
   "source": [
    "df.NTEE_CD.isna().sum()"
   ]
  },
  {
   "cell_type": "code",
   "execution_count": 37,
   "metadata": {},
   "outputs": [],
   "source": [
    "df.NTEE_CD.fillna(df.ACTIVITY.apply(code_NTEE_V2), inplace=True)"
   ]
  },
  {
   "cell_type": "code",
   "execution_count": 38,
   "metadata": {},
   "outputs": [
    {
     "name": "stdout",
     "output_type": "stream",
     "text": [
      "11515\n"
     ]
    },
    {
     "data": {
      "text/html": [
       "<div>\n",
       "<style scoped>\n",
       "    .dataframe tbody tr th:only-of-type {\n",
       "        vertical-align: middle;\n",
       "    }\n",
       "\n",
       "    .dataframe tbody tr th {\n",
       "        vertical-align: top;\n",
       "    }\n",
       "\n",
       "    .dataframe thead th {\n",
       "        text-align: right;\n",
       "    }\n",
       "</style>\n",
       "<table border=\"1\" class=\"dataframe\">\n",
       "  <thead>\n",
       "    <tr style=\"text-align: right;\">\n",
       "      <th></th>\n",
       "      <th>EIN</th>\n",
       "      <th>STREET</th>\n",
       "      <th>CITY</th>\n",
       "      <th>STATE</th>\n",
       "      <th>ZIP</th>\n",
       "      <th>GROUP</th>\n",
       "      <th>SUBSECTION</th>\n",
       "      <th>AFFILIATION</th>\n",
       "      <th>CLASSIFICATION</th>\n",
       "      <th>DEDUCTIBILITY</th>\n",
       "      <th>...</th>\n",
       "      <th>STATUS</th>\n",
       "      <th>FILING_REQ_CD</th>\n",
       "      <th>PF_FILING_REQ_CD</th>\n",
       "      <th>ACCT_PD</th>\n",
       "      <th>ASSET_AMT</th>\n",
       "      <th>INCOME_AMT</th>\n",
       "      <th>REVENUE_AMT</th>\n",
       "      <th>NTEE_CD</th>\n",
       "      <th>RULEYEAR</th>\n",
       "      <th>NAME_FULL</th>\n",
       "    </tr>\n",
       "  </thead>\n",
       "  <tbody>\n",
       "    <tr>\n",
       "      <th>150</th>\n",
       "      <td>10192722</td>\n",
       "      <td>109 MAIN ST</td>\n",
       "      <td>HOULTON</td>\n",
       "      <td>ME</td>\n",
       "      <td>04730-2123</td>\n",
       "      <td>0</td>\n",
       "      <td>6</td>\n",
       "      <td>3</td>\n",
       "      <td>3000</td>\n",
       "      <td>2</td>\n",
       "      <td>...</td>\n",
       "      <td>1</td>\n",
       "      <td>1</td>\n",
       "      <td>0</td>\n",
       "      <td>12</td>\n",
       "      <td>27756.0</td>\n",
       "      <td>167351.0</td>\n",
       "      <td>83314.0</td>\n",
       "      <td>None</td>\n",
       "      <td>1946</td>\n",
       "      <td>HOULTON CHAMBER OF COMMERCE</td>\n",
       "    </tr>\n",
       "    <tr>\n",
       "      <th>235</th>\n",
       "      <td>10211564</td>\n",
       "      <td>PO BOX 888</td>\n",
       "      <td>LEWISTON</td>\n",
       "      <td>ME</td>\n",
       "      <td>04243-0888</td>\n",
       "      <td>0</td>\n",
       "      <td>3</td>\n",
       "      <td>3</td>\n",
       "      <td>1000</td>\n",
       "      <td>1</td>\n",
       "      <td>...</td>\n",
       "      <td>1</td>\n",
       "      <td>1</td>\n",
       "      <td>0</td>\n",
       "      <td>12</td>\n",
       "      <td>2638982.0</td>\n",
       "      <td>1287903.0</td>\n",
       "      <td>1270323.0</td>\n",
       "      <td>None</td>\n",
       "      <td>1961</td>\n",
       "      <td>UNITED WAY OF ANDROSCOGGIN COUNTY INC</td>\n",
       "    </tr>\n",
       "    <tr>\n",
       "      <th>411</th>\n",
       "      <td>10241354</td>\n",
       "      <td>10 BRIDGE ST</td>\n",
       "      <td>RUMFORD</td>\n",
       "      <td>ME</td>\n",
       "      <td>04276-2007</td>\n",
       "      <td>0</td>\n",
       "      <td>6</td>\n",
       "      <td>3</td>\n",
       "      <td>3000</td>\n",
       "      <td>2</td>\n",
       "      <td>...</td>\n",
       "      <td>1</td>\n",
       "      <td>1</td>\n",
       "      <td>0</td>\n",
       "      <td>6</td>\n",
       "      <td>23675.0</td>\n",
       "      <td>60997.0</td>\n",
       "      <td>42828.0</td>\n",
       "      <td>None</td>\n",
       "      <td>1944</td>\n",
       "      <td>RIVER VALLEY CHAMBER OF COMMERCE</td>\n",
       "    </tr>\n",
       "    <tr>\n",
       "      <th>547</th>\n",
       "      <td>10279581</td>\n",
       "      <td>123 MEDICAL CENTER DR</td>\n",
       "      <td>BRUNSWICK</td>\n",
       "      <td>ME</td>\n",
       "      <td>04011-2652</td>\n",
       "      <td>0</td>\n",
       "      <td>3</td>\n",
       "      <td>3</td>\n",
       "      <td>1000</td>\n",
       "      <td>1</td>\n",
       "      <td>...</td>\n",
       "      <td>1</td>\n",
       "      <td>1</td>\n",
       "      <td>0</td>\n",
       "      <td>6</td>\n",
       "      <td>164903.0</td>\n",
       "      <td>104651.0</td>\n",
       "      <td>104651.0</td>\n",
       "      <td>None</td>\n",
       "      <td>1973</td>\n",
       "      <td>MIDCOAST HOSPITAL-BRUNSWICK AUXILIARY</td>\n",
       "    </tr>\n",
       "    <tr>\n",
       "      <th>637</th>\n",
       "      <td>10315181</td>\n",
       "      <td>PO BOX 192</td>\n",
       "      <td>PHILLIPS</td>\n",
       "      <td>ME</td>\n",
       "      <td>04966-0192</td>\n",
       "      <td>0</td>\n",
       "      <td>3</td>\n",
       "      <td>3</td>\n",
       "      <td>1000</td>\n",
       "      <td>1</td>\n",
       "      <td>...</td>\n",
       "      <td>1</td>\n",
       "      <td>2</td>\n",
       "      <td>0</td>\n",
       "      <td>12</td>\n",
       "      <td>0.0</td>\n",
       "      <td>0.0</td>\n",
       "      <td>0.0</td>\n",
       "      <td>None</td>\n",
       "      <td>1972</td>\n",
       "      <td>SANDY RIVER AMBULANCE ASSOCIATION</td>\n",
       "    </tr>\n",
       "  </tbody>\n",
       "</table>\n",
       "<p>5 rows × 23 columns</p>\n",
       "</div>"
      ],
      "text/plain": [
       "          EIN                 STREET       CITY STATE         ZIP  GROUP  \\\n",
       "150  10192722            109 MAIN ST    HOULTON    ME  04730-2123      0   \n",
       "235  10211564             PO BOX 888   LEWISTON    ME  04243-0888      0   \n",
       "411  10241354           10 BRIDGE ST    RUMFORD    ME  04276-2007      0   \n",
       "547  10279581  123 MEDICAL CENTER DR  BRUNSWICK    ME  04011-2652      0   \n",
       "637  10315181             PO BOX 192   PHILLIPS    ME  04966-0192      0   \n",
       "\n",
       "     SUBSECTION  AFFILIATION  CLASSIFICATION  DEDUCTIBILITY  \\\n",
       "150           6            3            3000              2   \n",
       "235           3            3            1000              1   \n",
       "411           6            3            3000              2   \n",
       "547           3            3            1000              1   \n",
       "637           3            3            1000              1   \n",
       "\n",
       "                      ...                    STATUS  FILING_REQ_CD  \\\n",
       "150                   ...                         1              1   \n",
       "235                   ...                         1              1   \n",
       "411                   ...                         1              1   \n",
       "547                   ...                         1              1   \n",
       "637                   ...                         1              2   \n",
       "\n",
       "     PF_FILING_REQ_CD  ACCT_PD  ASSET_AMT  INCOME_AMT  REVENUE_AMT  NTEE_CD  \\\n",
       "150                 0       12    27756.0    167351.0      83314.0     None   \n",
       "235                 0       12  2638982.0   1287903.0    1270323.0     None   \n",
       "411                 0        6    23675.0     60997.0      42828.0     None   \n",
       "547                 0        6   164903.0    104651.0     104651.0     None   \n",
       "637                 0       12        0.0         0.0          0.0     None   \n",
       "\n",
       "     RULEYEAR                               NAME_FULL  \n",
       "150      1946            HOULTON CHAMBER OF COMMERCE   \n",
       "235      1961  UNITED WAY OF ANDROSCOGGIN COUNTY INC   \n",
       "411      1944       RIVER VALLEY CHAMBER OF COMMERCE   \n",
       "547      1973  MIDCOAST HOSPITAL-BRUNSWICK AUXILIARY   \n",
       "637      1972      SANDY RIVER AMBULANCE ASSOCIATION   \n",
       "\n",
       "[5 rows x 23 columns]"
      ]
     },
     "execution_count": 38,
     "metadata": {},
     "output_type": "execute_result"
    }
   ],
   "source": [
    "print(df.NTEE_CD.isna().sum())\n",
    "df[df.NTEE_CD.isna()].head()"
   ]
  },
  {
   "cell_type": "markdown",
   "metadata": {},
   "source": [
    "Finally dropping the remaining ~11K rows that don't have a clear NTEE code."
   ]
  },
  {
   "cell_type": "code",
   "execution_count": 39,
   "metadata": {},
   "outputs": [
    {
     "data": {
      "text/plain": [
       "(1157394, 23)"
      ]
     },
     "execution_count": 39,
     "metadata": {},
     "output_type": "execute_result"
    }
   ],
   "source": [
    "df = df.dropna(subset=['NTEE_CD'])\n",
    "df.shape"
   ]
  },
  {
   "cell_type": "code",
   "execution_count": 40,
   "metadata": {},
   "outputs": [
    {
     "data": {
      "text/plain": [
       "EIN                   0\n",
       "STREET                1\n",
       "CITY                  0\n",
       "STATE               894\n",
       "ZIP                   0\n",
       "GROUP                 0\n",
       "SUBSECTION            0\n",
       "AFFILIATION           0\n",
       "CLASSIFICATION        0\n",
       "DEDUCTIBILITY         0\n",
       "FOUNDATION            0\n",
       "ACTIVITY              0\n",
       "ORGANIZATION          0\n",
       "STATUS                0\n",
       "FILING_REQ_CD         0\n",
       "PF_FILING_REQ_CD      0\n",
       "ACCT_PD               0\n",
       "ASSET_AMT             0\n",
       "INCOME_AMT            0\n",
       "REVENUE_AMT           0\n",
       "NTEE_CD               0\n",
       "RULEYEAR              0\n",
       "NAME_FULL             0\n",
       "dtype: int64"
      ]
     },
     "execution_count": 40,
     "metadata": {},
     "output_type": "execute_result"
    }
   ],
   "source": [
    "df.isna().sum()"
   ]
  },
  {
   "cell_type": "markdown",
   "metadata": {},
   "source": [
    "Now to drop the very small subset of missing values."
   ]
  },
  {
   "cell_type": "code",
   "execution_count": 41,
   "metadata": {},
   "outputs": [
    {
     "name": "stdout",
     "output_type": "stream",
     "text": [
      "<class 'pandas.core.frame.DataFrame'>\n",
      "Int64Index: 1156499 entries, 12 to 1691185\n",
      "Data columns (total 23 columns):\n",
      "EIN                 1156499 non-null int64\n",
      "STREET              1156499 non-null object\n",
      "CITY                1156499 non-null object\n",
      "STATE               1156499 non-null object\n",
      "ZIP                 1156499 non-null object\n",
      "GROUP               1156499 non-null int64\n",
      "SUBSECTION          1156499 non-null int64\n",
      "AFFILIATION         1156499 non-null int64\n",
      "CLASSIFICATION      1156499 non-null int64\n",
      "DEDUCTIBILITY       1156499 non-null int64\n",
      "FOUNDATION          1156499 non-null int64\n",
      "ACTIVITY            1156499 non-null int64\n",
      "ORGANIZATION        1156499 non-null int64\n",
      "STATUS              1156499 non-null int64\n",
      "FILING_REQ_CD       1156499 non-null int64\n",
      "PF_FILING_REQ_CD    1156499 non-null int64\n",
      "ACCT_PD             1156499 non-null int64\n",
      "ASSET_AMT           1156499 non-null float64\n",
      "INCOME_AMT          1156499 non-null float64\n",
      "REVENUE_AMT         1156499 non-null float64\n",
      "NTEE_CD             1156499 non-null object\n",
      "RULEYEAR            1156499 non-null int64\n",
      "NAME_FULL           1156499 non-null object\n",
      "dtypes: float64(3), int64(14), object(6)\n",
      "memory usage: 211.8+ MB\n"
     ]
    }
   ],
   "source": [
    "df.dropna(subset=['STATE', 'STREET'], inplace=True) #dropping the missing values\n",
    "df.info()"
   ]
  },
  {
   "cell_type": "markdown",
   "metadata": {},
   "source": [
    "Now that I have my target variable set, albeit currently in two different formats, it is time to start removing the some excess columns and divide the data.\n",
    "\n",
    "Removing the other columns that I won't be using to model my data with."
   ]
  },
  {
   "cell_type": "code",
   "execution_count": 42,
   "metadata": {},
   "outputs": [],
   "source": [
    "df = df.drop(['NAME_FULL', 'STREET', 'ZIP', 'CITY','ACTIVITY', 'EIN', 'ACCT_PD'], axis=1)"
   ]
  },
  {
   "cell_type": "markdown",
   "metadata": {},
   "source": [
    "Now taking a look at `NTEE_CD` column and getting the proper format."
   ]
  },
  {
   "cell_type": "code",
   "execution_count": 43,
   "metadata": {},
   "outputs": [
    {
     "data": {
      "text/plain": [
       "12    A80\n",
       "13    S19\n",
       "14    N64\n",
       "15      J\n",
       "16      B\n",
       "Name: NTEE_CD, dtype: object"
      ]
     },
     "execution_count": 43,
     "metadata": {},
     "output_type": "execute_result"
    }
   ],
   "source": [
    "df.NTEE_CD.head()"
   ]
  },
  {
   "cell_type": "markdown",
   "metadata": {},
   "source": [
    "Lets take this opportunity to split off a subsection of this data set that was given by the IRS in preparation for running in a model."
   ]
  },
  {
   "cell_type": "code",
   "execution_count": 44,
   "metadata": {},
   "outputs": [
    {
     "data": {
      "text/plain": [
       "(795612, 16)"
      ]
     },
     "execution_count": 44,
     "metadata": {},
     "output_type": "execute_result"
    }
   ],
   "source": [
    "df_post = df[df.NTEE_CD.apply(lambda x: len(str(x)) > 2)]\n",
    "df_post.shape"
   ]
  },
  {
   "cell_type": "markdown",
   "metadata": {},
   "source": [
    "Lets remove the more specific coding form the `NTEE` column, just leaving the one of the 26 categories."
   ]
  },
  {
   "cell_type": "code",
   "execution_count": 45,
   "metadata": {},
   "outputs": [
    {
     "name": "stderr",
     "output_type": "stream",
     "text": [
      "C:\\Users\\J\\Anaconda3\\lib\\site-packages\\pandas\\core\\generic.py:4405: SettingWithCopyWarning: \n",
      "A value is trying to be set on a copy of a slice from a DataFrame.\n",
      "Try using .loc[row_indexer,col_indexer] = value instead\n",
      "\n",
      "See the caveats in the documentation: http://pandas.pydata.org/pandas-docs/stable/indexing.html#indexing-view-versus-copy\n",
      "  self[name] = value\n"
     ]
    },
    {
     "data": {
      "text/plain": [
       "(12    A\n",
       " 13    S\n",
       " 14    N\n",
       " 15    J\n",
       " 16    B\n",
       " Name: NTEE_CD, dtype: object, 12    A\n",
       " 13    S\n",
       " 14    N\n",
       " 30    A\n",
       " 38    Y\n",
       " Name: NTEE_CD, dtype: object)"
      ]
     },
     "execution_count": 45,
     "metadata": {},
     "output_type": "execute_result"
    }
   ],
   "source": [
    "df.NTEE_CD = df.NTEE_CD.apply(lambda x: x[0:1])\n",
    "df_post.NTEE_CD = df.NTEE_CD.apply(lambda x: x[0:1])\n",
    "\n",
    "df.NTEE_CD.head(), df_post.NTEE_CD.head()"
   ]
  },
  {
   "cell_type": "markdown",
   "metadata": {},
   "source": [
    "### Breaking into subsets"
   ]
  },
  {
   "cell_type": "code",
   "execution_count": 46,
   "metadata": {},
   "outputs": [
    {
     "data": {
      "text/plain": [
       "B    1.972142e-01\n",
       "N    8.880596e-02\n",
       "P    8.717863e-02\n",
       "A    8.598883e-02\n",
       "W    6.278345e-02\n",
       "X    5.447735e-02\n",
       "S    4.774928e-02\n",
       "J    4.689239e-02\n",
       "O    4.173199e-02\n",
       "E    3.924344e-02\n",
       "Y    3.749593e-02\n",
       "T    3.744491e-02\n",
       "L    2.417036e-02\n",
       "Q    2.404066e-02\n",
       "D    2.282060e-02\n",
       "C    2.014355e-02\n",
       "M    1.368873e-02\n",
       "K    1.244878e-02\n",
       "F    1.176828e-02\n",
       "I    9.862525e-03\n",
       "R    9.572857e-03\n",
       "G    9.338529e-03\n",
       "Z    6.274108e-03\n",
       "H    3.946393e-03\n",
       "U    3.782104e-03\n",
       "V    1.122353e-03\n",
       "0    1.037614e-05\n",
       "c    2.594036e-06\n",
       "8    8.646787e-07\n",
       "Name: NTEE_CD, dtype: float64"
      ]
     },
     "execution_count": 46,
     "metadata": {},
     "output_type": "execute_result"
    }
   ],
   "source": [
    "df.NTEE_CD.value_counts(normalize=True)"
   ]
  },
  {
   "cell_type": "markdown",
   "metadata": {},
   "source": [
    "There seems to be some extraneous information in our target variables. Also we have some class balancing issues to keep in mind when we are running our models. Lets excise the odd labels then move forward."
   ]
  },
  {
   "cell_type": "code",
   "execution_count": 47,
   "metadata": {},
   "outputs": [
    {
     "data": {
      "text/plain": [
       "((1156483, 16), (795596, 16))"
      ]
     },
     "execution_count": 47,
     "metadata": {},
     "output_type": "execute_result"
    }
   ],
   "source": [
    "removal = ['c', '0', '8'] #Setting what we don't want\n",
    "\n",
    "mask = df[df.NTEE_CD.isin(removal)] #Finding the rows that contain those values and masking a mask\n",
    "df_full = df.drop(mask.index) #Dropping based on index\n",
    "\n",
    "mask_post = df_post[df_post.NTEE_CD.isin(removal)] #Finding the rows that contain those values and masking a mask\n",
    "df_post = df_post.drop(mask.index)\n",
    "\n",
    "\n",
    "df_full.shape, df_post.shape"
   ]
  },
  {
   "cell_type": "markdown",
   "metadata": {},
   "source": [
    "___"
   ]
  },
  {
   "cell_type": "markdown",
   "metadata": {},
   "source": [
    "A good data cleaning tip, when ever making new `DataFrames` reset the index. There is going to be a lot of merging later of respected dataframes so this ensures starting off with a simple index.\n"
   ]
  },
  {
   "cell_type": "code",
   "execution_count": 48,
   "metadata": {},
   "outputs": [],
   "source": [
    "df_full.reset_index(drop=True, inplace=True)\n",
    "df_post.reset_index(drop=True, inplace=True)"
   ]
  },
  {
   "cell_type": "markdown",
   "metadata": {},
   "source": [
    "___"
   ]
  },
  {
   "cell_type": "code",
   "execution_count": 49,
   "metadata": {},
   "outputs": [
    {
     "data": {
      "text/plain": [
       "B    122782\n",
       "P     96913\n",
       "A     80769\n",
       "N     71509\n",
       "X     53548\n",
       "S     50520\n",
       "O     37988\n",
       "E     33259\n",
       "T     32599\n",
       "D     26164\n",
       "L     22248\n",
       "C     19483\n",
       "Q     19441\n",
       "W     18994\n",
       "M     15669\n",
       "F     13608\n",
       "Y     13209\n",
       "J     11440\n",
       "K     11174\n",
       "I     10889\n",
       "G     10797\n",
       "Z      7251\n",
       "R      5674\n",
       "H      4564\n",
       "U      3806\n",
       "V      1298\n",
       "Name: NTEE_CD, dtype: int64"
      ]
     },
     "execution_count": 49,
     "metadata": {},
     "output_type": "execute_result"
    }
   ],
   "source": [
    "df_post.NTEE_CD.value_counts()"
   ]
  },
  {
   "cell_type": "code",
   "execution_count": 50,
   "metadata": {},
   "outputs": [
    {
     "data": {
      "text/plain": [
       "B    228078\n",
       "N    102704\n",
       "P    100822\n",
       "A     99446\n",
       "W     72609\n",
       "X     63003\n",
       "S     55222\n",
       "J     54231\n",
       "O     48263\n",
       "E     45385\n",
       "Y     43364\n",
       "T     43305\n",
       "L     27953\n",
       "Q     27803\n",
       "D     26392\n",
       "C     23296\n",
       "M     15831\n",
       "K     14397\n",
       "F     13610\n",
       "I     11406\n",
       "R     11071\n",
       "G     10800\n",
       "Z      7256\n",
       "H      4564\n",
       "U      4374\n",
       "V      1298\n",
       "Name: NTEE_CD, dtype: int64"
      ]
     },
     "execution_count": 50,
     "metadata": {},
     "output_type": "execute_result"
    }
   ],
   "source": [
    "df_full.NTEE_CD.value_counts()"
   ]
  },
  {
   "cell_type": "markdown",
   "metadata": {},
   "source": [
    "Now that we have both the full and post datasets, we have one more to make.\n",
    "\n",
    "I am going to group by the `target` variable and then take subsamples of 10,000 of each group. There are four `target` variables that won't be able to be completely full, given n=10000, without using replacement when taking the samples. If replacement were to be used, there would be a greater chance that our models would over fit on those specific `target`s.  \n",
    "\n",
    "I will manually remove labels with less than 10K instances and then append them back at the end. Using the [`pd.sample()`](http://pandas.pydata.org/pandas-docs/stable/reference/api/pandas.DataFrame.sample.html), I randomly take the necessary samples from the population then create my slimmed down dataset."
   ]
  },
  {
   "cell_type": "code",
   "execution_count": 51,
   "metadata": {},
   "outputs": [
    {
     "data": {
      "text/plain": [
       "(1138991, 16)"
      ]
     },
     "execution_count": 51,
     "metadata": {},
     "output_type": "execute_result"
    }
   ],
   "source": [
    "to_append = df_full[df_full.NTEE_CD.isin(['Z','H','U','V'])]\n",
    "\n",
    "df_downsize = df_full[~df_full.NTEE_CD.isin(['Z','H','U','V'])] #The tilda is a negation, everything BUT those listed\n",
    "\n",
    "\n",
    "df_downsize.shape"
   ]
  },
  {
   "cell_type": "code",
   "execution_count": 52,
   "metadata": {},
   "outputs": [
    {
     "data": {
      "text/html": [
       "<div>\n",
       "<style scoped>\n",
       "    .dataframe tbody tr th:only-of-type {\n",
       "        vertical-align: middle;\n",
       "    }\n",
       "\n",
       "    .dataframe tbody tr th {\n",
       "        vertical-align: top;\n",
       "    }\n",
       "\n",
       "    .dataframe thead th {\n",
       "        text-align: right;\n",
       "    }\n",
       "</style>\n",
       "<table border=\"1\" class=\"dataframe\">\n",
       "  <thead>\n",
       "    <tr style=\"text-align: right;\">\n",
       "      <th></th>\n",
       "      <th>STATE</th>\n",
       "      <th>GROUP</th>\n",
       "      <th>SUBSECTION</th>\n",
       "      <th>AFFILIATION</th>\n",
       "      <th>CLASSIFICATION</th>\n",
       "      <th>DEDUCTIBILITY</th>\n",
       "      <th>FOUNDATION</th>\n",
       "      <th>ORGANIZATION</th>\n",
       "      <th>STATUS</th>\n",
       "      <th>FILING_REQ_CD</th>\n",
       "      <th>PF_FILING_REQ_CD</th>\n",
       "      <th>ASSET_AMT</th>\n",
       "      <th>INCOME_AMT</th>\n",
       "      <th>REVENUE_AMT</th>\n",
       "      <th>NTEE_CD</th>\n",
       "      <th>RULEYEAR</th>\n",
       "    </tr>\n",
       "  </thead>\n",
       "  <tbody>\n",
       "    <tr>\n",
       "      <th>(0, 1154416)</th>\n",
       "      <td>HI</td>\n",
       "      <td>0</td>\n",
       "      <td>3</td>\n",
       "      <td>3</td>\n",
       "      <td>1000</td>\n",
       "      <td>1</td>\n",
       "      <td>15</td>\n",
       "      <td>1</td>\n",
       "      <td>1</td>\n",
       "      <td>1</td>\n",
       "      <td>0</td>\n",
       "      <td>4364983.0</td>\n",
       "      <td>854128.0</td>\n",
       "      <td>827297.0</td>\n",
       "      <td>A</td>\n",
       "      <td>1996</td>\n",
       "    </tr>\n",
       "    <tr>\n",
       "      <th>(0, 650062)</th>\n",
       "      <td>TX</td>\n",
       "      <td>0</td>\n",
       "      <td>3</td>\n",
       "      <td>3</td>\n",
       "      <td>2000</td>\n",
       "      <td>1</td>\n",
       "      <td>16</td>\n",
       "      <td>1</td>\n",
       "      <td>1</td>\n",
       "      <td>2</td>\n",
       "      <td>0</td>\n",
       "      <td>0.0</td>\n",
       "      <td>0.0</td>\n",
       "      <td>0.0</td>\n",
       "      <td>A</td>\n",
       "      <td>1991</td>\n",
       "    </tr>\n",
       "    <tr>\n",
       "      <th>(0, 758056)</th>\n",
       "      <td>CA</td>\n",
       "      <td>0</td>\n",
       "      <td>3</td>\n",
       "      <td>3</td>\n",
       "      <td>2000</td>\n",
       "      <td>1</td>\n",
       "      <td>15</td>\n",
       "      <td>1</td>\n",
       "      <td>1</td>\n",
       "      <td>1</td>\n",
       "      <td>0</td>\n",
       "      <td>1215885.0</td>\n",
       "      <td>198033.0</td>\n",
       "      <td>192034.0</td>\n",
       "      <td>A</td>\n",
       "      <td>2003</td>\n",
       "    </tr>\n",
       "    <tr>\n",
       "      <th>(0, 24643)</th>\n",
       "      <td>NY</td>\n",
       "      <td>0</td>\n",
       "      <td>3</td>\n",
       "      <td>3</td>\n",
       "      <td>1200</td>\n",
       "      <td>1</td>\n",
       "      <td>15</td>\n",
       "      <td>5</td>\n",
       "      <td>1</td>\n",
       "      <td>2</td>\n",
       "      <td>0</td>\n",
       "      <td>0.0</td>\n",
       "      <td>0.0</td>\n",
       "      <td>0.0</td>\n",
       "      <td>A</td>\n",
       "      <td>2004</td>\n",
       "    </tr>\n",
       "    <tr>\n",
       "      <th>(0, 381128)</th>\n",
       "      <td>MI</td>\n",
       "      <td>9516</td>\n",
       "      <td>3</td>\n",
       "      <td>9</td>\n",
       "      <td>1000</td>\n",
       "      <td>1</td>\n",
       "      <td>16</td>\n",
       "      <td>1</td>\n",
       "      <td>1</td>\n",
       "      <td>2</td>\n",
       "      <td>0</td>\n",
       "      <td>0.0</td>\n",
       "      <td>0.0</td>\n",
       "      <td>0.0</td>\n",
       "      <td>A</td>\n",
       "      <td>1995</td>\n",
       "    </tr>\n",
       "  </tbody>\n",
       "</table>\n",
       "</div>"
      ],
      "text/plain": [
       "             STATE  GROUP  SUBSECTION  AFFILIATION  CLASSIFICATION  \\\n",
       "(0, 1154416)    HI      0           3            3            1000   \n",
       "(0, 650062)     TX      0           3            3            2000   \n",
       "(0, 758056)     CA      0           3            3            2000   \n",
       "(0, 24643)      NY      0           3            3            1200   \n",
       "(0, 381128)     MI   9516           3            9            1000   \n",
       "\n",
       "              DEDUCTIBILITY  FOUNDATION  ORGANIZATION  STATUS  FILING_REQ_CD  \\\n",
       "(0, 1154416)              1          15             1       1              1   \n",
       "(0, 650062)               1          16             1       1              2   \n",
       "(0, 758056)               1          15             1       1              1   \n",
       "(0, 24643)                1          15             5       1              2   \n",
       "(0, 381128)               1          16             1       1              2   \n",
       "\n",
       "              PF_FILING_REQ_CD  ASSET_AMT  INCOME_AMT  REVENUE_AMT NTEE_CD  \\\n",
       "(0, 1154416)                 0  4364983.0    854128.0     827297.0       A   \n",
       "(0, 650062)                  0        0.0         0.0          0.0       A   \n",
       "(0, 758056)                  0  1215885.0    198033.0     192034.0       A   \n",
       "(0, 24643)                   0        0.0         0.0          0.0       A   \n",
       "(0, 381128)                  0        0.0         0.0          0.0       A   \n",
       "\n",
       "              RULEYEAR  \n",
       "(0, 1154416)      1996  \n",
       "(0, 650062)       1991  \n",
       "(0, 758056)       2003  \n",
       "(0, 24643)        2004  \n",
       "(0, 381128)       1995  "
      ]
     },
     "execution_count": 52,
     "metadata": {},
     "output_type": "execute_result"
    }
   ],
   "source": [
    "df_downsize = df_downsize.groupby('NTEE_CD', as_index=False).apply(lambda x: x.sample(10000, random_state=26))\n",
    "\n",
    "df_downsize = df_downsize.append(to_append)\n",
    "\n",
    "df_downsize.head()"
   ]
  },
  {
   "cell_type": "markdown",
   "metadata": {},
   "source": [
    "___"
   ]
  },
  {
   "cell_type": "markdown",
   "metadata": {},
   "source": [
    "Clean. Clean. Clean."
   ]
  },
  {
   "cell_type": "code",
   "execution_count": 53,
   "metadata": {},
   "outputs": [],
   "source": [
    "df_downsize.reset_index(drop=True, inplace=True)"
   ]
  },
  {
   "cell_type": "markdown",
   "metadata": {},
   "source": [
    "___"
   ]
  },
  {
   "cell_type": "code",
   "execution_count": 54,
   "metadata": {},
   "outputs": [
    {
     "data": {
      "text/html": [
       "<div>\n",
       "<style scoped>\n",
       "    .dataframe tbody tr th:only-of-type {\n",
       "        vertical-align: middle;\n",
       "    }\n",
       "\n",
       "    .dataframe tbody tr th {\n",
       "        vertical-align: top;\n",
       "    }\n",
       "\n",
       "    .dataframe thead th {\n",
       "        text-align: right;\n",
       "    }\n",
       "</style>\n",
       "<table border=\"1\" class=\"dataframe\">\n",
       "  <thead>\n",
       "    <tr style=\"text-align: right;\">\n",
       "      <th></th>\n",
       "      <th>STATE</th>\n",
       "      <th>GROUP</th>\n",
       "      <th>SUBSECTION</th>\n",
       "      <th>AFFILIATION</th>\n",
       "      <th>CLASSIFICATION</th>\n",
       "      <th>DEDUCTIBILITY</th>\n",
       "      <th>FOUNDATION</th>\n",
       "      <th>ORGANIZATION</th>\n",
       "      <th>STATUS</th>\n",
       "      <th>FILING_REQ_CD</th>\n",
       "      <th>PF_FILING_REQ_CD</th>\n",
       "      <th>ASSET_AMT</th>\n",
       "      <th>INCOME_AMT</th>\n",
       "      <th>REVENUE_AMT</th>\n",
       "      <th>NTEE_CD</th>\n",
       "      <th>RULEYEAR</th>\n",
       "    </tr>\n",
       "  </thead>\n",
       "  <tbody>\n",
       "    <tr>\n",
       "      <th>0</th>\n",
       "      <td>ME</td>\n",
       "      <td>0</td>\n",
       "      <td>3</td>\n",
       "      <td>3</td>\n",
       "      <td>1000</td>\n",
       "      <td>1</td>\n",
       "      <td>15</td>\n",
       "      <td>1</td>\n",
       "      <td>1</td>\n",
       "      <td>2</td>\n",
       "      <td>0</td>\n",
       "      <td>0.0</td>\n",
       "      <td>0.0</td>\n",
       "      <td>0.0</td>\n",
       "      <td>A</td>\n",
       "      <td>2000</td>\n",
       "    </tr>\n",
       "    <tr>\n",
       "      <th>1</th>\n",
       "      <td>MA</td>\n",
       "      <td>0</td>\n",
       "      <td>3</td>\n",
       "      <td>3</td>\n",
       "      <td>1000</td>\n",
       "      <td>1</td>\n",
       "      <td>16</td>\n",
       "      <td>1</td>\n",
       "      <td>1</td>\n",
       "      <td>2</td>\n",
       "      <td>0</td>\n",
       "      <td>0.0</td>\n",
       "      <td>0.0</td>\n",
       "      <td>0.0</td>\n",
       "      <td>S</td>\n",
       "      <td>2015</td>\n",
       "    </tr>\n",
       "    <tr>\n",
       "      <th>2</th>\n",
       "      <td>NJ</td>\n",
       "      <td>0</td>\n",
       "      <td>3</td>\n",
       "      <td>3</td>\n",
       "      <td>1000</td>\n",
       "      <td>1</td>\n",
       "      <td>16</td>\n",
       "      <td>1</td>\n",
       "      <td>1</td>\n",
       "      <td>1</td>\n",
       "      <td>0</td>\n",
       "      <td>62462.0</td>\n",
       "      <td>140685.0</td>\n",
       "      <td>140685.0</td>\n",
       "      <td>N</td>\n",
       "      <td>2012</td>\n",
       "    </tr>\n",
       "    <tr>\n",
       "      <th>3</th>\n",
       "      <td>ME</td>\n",
       "      <td>0</td>\n",
       "      <td>3</td>\n",
       "      <td>3</td>\n",
       "      <td>2000</td>\n",
       "      <td>1</td>\n",
       "      <td>15</td>\n",
       "      <td>1</td>\n",
       "      <td>1</td>\n",
       "      <td>1</td>\n",
       "      <td>0</td>\n",
       "      <td>233819.0</td>\n",
       "      <td>180773.0</td>\n",
       "      <td>127013.0</td>\n",
       "      <td>J</td>\n",
       "      <td>1993</td>\n",
       "    </tr>\n",
       "    <tr>\n",
       "      <th>4</th>\n",
       "      <td>ME</td>\n",
       "      <td>287</td>\n",
       "      <td>7</td>\n",
       "      <td>9</td>\n",
       "      <td>1000</td>\n",
       "      <td>2</td>\n",
       "      <td>0</td>\n",
       "      <td>5</td>\n",
       "      <td>1</td>\n",
       "      <td>2</td>\n",
       "      <td>0</td>\n",
       "      <td>0.0</td>\n",
       "      <td>0.0</td>\n",
       "      <td>0.0</td>\n",
       "      <td>B</td>\n",
       "      <td>1941</td>\n",
       "    </tr>\n",
       "  </tbody>\n",
       "</table>\n",
       "</div>"
      ],
      "text/plain": [
       "  STATE  GROUP  SUBSECTION  AFFILIATION  CLASSIFICATION  DEDUCTIBILITY  \\\n",
       "0    ME      0           3            3            1000              1   \n",
       "1    MA      0           3            3            1000              1   \n",
       "2    NJ      0           3            3            1000              1   \n",
       "3    ME      0           3            3            2000              1   \n",
       "4    ME    287           7            9            1000              2   \n",
       "\n",
       "   FOUNDATION  ORGANIZATION  STATUS  FILING_REQ_CD  PF_FILING_REQ_CD  \\\n",
       "0          15             1       1              2                 0   \n",
       "1          16             1       1              2                 0   \n",
       "2          16             1       1              1                 0   \n",
       "3          15             1       1              1                 0   \n",
       "4           0             5       1              2                 0   \n",
       "\n",
       "   ASSET_AMT  INCOME_AMT  REVENUE_AMT NTEE_CD  RULEYEAR  \n",
       "0        0.0         0.0          0.0       A      2000  \n",
       "1        0.0         0.0          0.0       S      2015  \n",
       "2    62462.0    140685.0     140685.0       N      2012  \n",
       "3   233819.0    180773.0     127013.0       J      1993  \n",
       "4        0.0         0.0          0.0       B      1941  "
      ]
     },
     "execution_count": 54,
     "metadata": {},
     "output_type": "execute_result"
    }
   ],
   "source": [
    "df_full.head()"
   ]
  },
  {
   "cell_type": "code",
   "execution_count": 55,
   "metadata": {},
   "outputs": [
    {
     "data": {
      "text/plain": [
       "(237492, 16)"
      ]
     },
     "execution_count": 55,
     "metadata": {},
     "output_type": "execute_result"
    }
   ],
   "source": [
    "df_downsize.shape"
   ]
  },
  {
   "cell_type": "code",
   "execution_count": 56,
   "metadata": {},
   "outputs": [
    {
     "data": {
      "text/plain": [
       "B    0.042107\n",
       "P    0.042107\n",
       "Q    0.042107\n",
       "J    0.042107\n",
       "N    0.042107\n",
       "X    0.042107\n",
       "E    0.042107\n",
       "I    0.042107\n",
       "L    0.042107\n",
       "A    0.042107\n",
       "F    0.042107\n",
       "O    0.042107\n",
       "C    0.042107\n",
       "D    0.042107\n",
       "M    0.042107\n",
       "R    0.042107\n",
       "K    0.042107\n",
       "T    0.042107\n",
       "W    0.042107\n",
       "S    0.042107\n",
       "Y    0.042107\n",
       "G    0.042107\n",
       "Z    0.030553\n",
       "H    0.019217\n",
       "U    0.018417\n",
       "V    0.005465\n",
       "Name: NTEE_CD, dtype: float64"
      ]
     },
     "execution_count": 56,
     "metadata": {},
     "output_type": "execute_result"
    }
   ],
   "source": [
    "df_downsize.NTEE_CD.value_counts(normalize=True)"
   ]
  },
  {
   "cell_type": "markdown",
   "metadata": {},
   "source": [
    "Good, these all look like my expected outcomes. "
   ]
  },
  {
   "cell_type": "markdown",
   "metadata": {},
   "source": [
    "Now lets take a quick look at our target distribution."
   ]
  },
  {
   "cell_type": "code",
   "execution_count": 57,
   "metadata": {},
   "outputs": [
    {
     "data": {
      "image/png": "[encoded data removed]",
      "text/plain": [
       "<Figure size 864x576 with 1 Axes>"
      ]
     },
     "metadata": {
      "needs_background": "light"
     },
     "output_type": "display_data"
    }
   ],
   "source": [
    "target_count_post = pd.value_counts(df_post['NTEE_CD'].values)\n",
    "target_count_post.plot.barh(figsize=(12,8))\n",
    "plt.title('Count of Major Group Categories for Post Dataset');"
   ]
  },
  {
   "cell_type": "code",
   "execution_count": 58,
   "metadata": {},
   "outputs": [
    {
     "data": {
      "image/png": "[encoded data removed]",
      "text/plain": [
       "<Figure size 864x576 with 1 Axes>"
      ]
     },
     "metadata": {
      "needs_background": "light"
     },
     "output_type": "display_data"
    }
   ],
   "source": [
    "target_count_full = pd.value_counts(df_full['NTEE_CD'].values)\n",
    "target_count_full.plot.barh(figsize=(12,8))\n",
    "plt.title('Count of Major Group Categories for Full Dataset');"
   ]
  },
  {
   "cell_type": "markdown",
   "metadata": {
    "toc-hr-collapsed": false
   },
   "source": [
    "## Explore\n",
    "Lets check the class balance for the rest of the columns"
   ]
  },
  {
   "cell_type": "code",
   "execution_count": 59,
   "metadata": {},
   "outputs": [
    {
     "data": {
      "image/png": "[encoded data removed]",
      "text/plain": [
       "<Figure size 1728x864 with 3 Axes>"
      ]
     },
     "metadata": {
      "needs_background": "light"
     },
     "output_type": "display_data"
    }
   ],
   "source": [
    "fig = plt.figure(figsize=(24,12))\n",
    "ax1 = fig.add_subplot(131)\n",
    "ax2 = fig.add_subplot(132)\n",
    "ax3 = fig.add_subplot(133)\n",
    "\n",
    "states_1 =  sorted(list(df_downsize.STATE.unique()), reverse=True)\n",
    "states_2 =  sorted(list(df_full.STATE.unique()), reverse=True)\n",
    "states_3 =  sorted(list(df_post.STATE.unique()), reverse=True)\n",
    "\n",
    "ax1.barh(states_1, df_downsize.groupby('STATE')['NTEE_CD'].count(), color='r' )\n",
    "ax1.set_title('Count of Major Group Categories for Downsized Dataset')\n",
    "\n",
    "ax2.barh(states_2, df_full.groupby('STATE')['NTEE_CD'].count(), color='w', edgecolor='black' )\n",
    "ax2.set_title('Count of Major Group Categories for Full Dataset')\n",
    "\n",
    "ax3.barh(states_3, df_post.groupby('STATE')['NTEE_CD'].count(), color='b')\n",
    "ax3.set_title('Count of Major Group Categories for Post-95 Dataset')\n",
    "plt.show()\n"
   ]
  },
  {
   "cell_type": "markdown",
   "metadata": {},
   "source": [
    "State/Region | USPS Abbreviated Code\n",
    "--------------------|--------------|\n",
    "U.S. Armed Forces – Americas  | AA    \n",
    " U.S. Armed Forces – Europe  | AE    \n",
    " U.S. Armed Forces – Pacific  | AP   \n",
    " American Samoa                         | AS   \n",
    " Micronesia                   | FM \n",
    " Marshall Islands                    | MH \n",
    " Palau                    | PW \n",
    " U.S. Virgin Islands | VI\n",
    " \n",
    " Keeping in mind all three charts exist on a different scale, they all look to have the same distribution."
   ]
  },
  {
   "cell_type": "code",
   "execution_count": 60,
   "metadata": {},
   "outputs": [
    {
     "data": {
      "text/plain": [
       "Index(['STATE', 'GROUP', 'SUBSECTION', 'AFFILIATION', 'CLASSIFICATION',\n",
       "       'DEDUCTIBILITY', 'FOUNDATION', 'ORGANIZATION', 'STATUS',\n",
       "       'FILING_REQ_CD', 'PF_FILING_REQ_CD', 'ASSET_AMT', 'INCOME_AMT',\n",
       "       'REVENUE_AMT', 'NTEE_CD', 'RULEYEAR'],\n",
       "      dtype='object')"
      ]
     },
     "execution_count": 60,
     "metadata": {},
     "output_type": "execute_result"
    }
   ],
   "source": [
    "df.columns"
   ]
  },
  {
   "cell_type": "code",
   "execution_count": 61,
   "metadata": {},
   "outputs": [
    {
     "data": {
      "text/plain": [
       "[CA    0.103421\n",
       " TX    0.068871\n",
       " NY    0.060910\n",
       " FL    0.048956\n",
       " PA    0.042625\n",
       " Name: STATE, dtype: float64, 0       0.775831\n",
       " 820     0.007404\n",
       " 188     0.006774\n",
       " 925     0.006450\n",
       " 1072    0.005382\n",
       " Name: GROUP, dtype: float64, 3    0.731922\n",
       " 4    0.058842\n",
       " 6    0.049164\n",
       " 5    0.035976\n",
       " 7    0.035699\n",
       " Name: SUBSECTION, dtype: float64, 3    0.772426\n",
       " 9    0.221409\n",
       " 6    0.002687\n",
       " 1    0.002476\n",
       " 2    0.000802\n",
       " Name: AFFILIATION, dtype: float64, 1000    0.553376\n",
       " 2000    0.179143\n",
       " 1200    0.105087\n",
       " 3000    0.066521\n",
       " 7000    0.027562\n",
       " Name: CLASSIFICATION, dtype: float64, 1    0.796841\n",
       " 2    0.197174\n",
       " 0    0.005880\n",
       " 4    0.000105\n",
       " Name: DEDUCTIBILITY, dtype: float64, 15    0.431279\n",
       " 0     0.267942\n",
       " 16    0.247533\n",
       " 11    0.016504\n",
       " 17    0.014625\n",
       " Name: FOUNDATION, dtype: float64, 1    0.754107\n",
       " 5    0.230146\n",
       " 2    0.012890\n",
       " 0    0.001865\n",
       " 3    0.000931\n",
       " Name: ORGANIZATION, dtype: float64, 1     0.999615\n",
       " 2     0.000296\n",
       " 25    0.000059\n",
       " 12    0.000030\n",
       " Name: STATUS, dtype: float64, 2     0.635579\n",
       " 1     0.350961\n",
       " 6     0.010149\n",
       " 0     0.002041\n",
       " 13    0.000552\n",
       " Name: FILING_REQ_CD, dtype: float64, 0    0.999258\n",
       " 1    0.000725\n",
       " 3    0.000017\n",
       " Name: PF_FILING_REQ_CD, dtype: float64, 0.0        0.554308\n",
       " 1.0        0.009307\n",
       " 100.0      0.000181\n",
       " 1000.0     0.000133\n",
       " 500.0      0.000128\n",
       " 200.0      0.000085\n",
       " 5000.0     0.000074\n",
       " 2000.0     0.000073\n",
       " 1500.0     0.000058\n",
       " 300.0      0.000058\n",
       " 50.0       0.000057\n",
       " 10.0       0.000048\n",
       " 150.0      0.000048\n",
       " 3000.0     0.000045\n",
       " 25.0       0.000044\n",
       " 10000.0    0.000044\n",
       " 2500.0     0.000042\n",
       " 5.0        0.000042\n",
       " Name: ASSET_AMT, dtype: float64, 0.0        0.562415\n",
       " 1000.0     0.000254\n",
       " 5000.0     0.000191\n",
       " 500.0      0.000190\n",
       " 100.0      0.000188\n",
       " 1.0        0.000173\n",
       " 10000.0    0.000157\n",
       " 2000.0     0.000144\n",
       " 200.0      0.000112\n",
       " 3000.0     0.000110\n",
       " 1500.0     0.000106\n",
       " 2500.0     0.000096\n",
       " 2.0        0.000090\n",
       " 6000.0     0.000088\n",
       " 5.0        0.000084\n",
       " Name: INCOME_AMT, dtype: float64, 0.0        0.563671\n",
       " 1000.0     0.000249\n",
       " 500.0      0.000187\n",
       " 5000.0     0.000183\n",
       " 100.0      0.000182\n",
       " 1.0        0.000169\n",
       " 10000.0    0.000155\n",
       " 2000.0     0.000138\n",
       " 3000.0     0.000112\n",
       " 200.0      0.000111\n",
       " 1500.0     0.000105\n",
       " 2500.0     0.000096\n",
       " 2.0        0.000090\n",
       " 6000.0     0.000088\n",
       " 5.0        0.000083\n",
       " Name: REVENUE_AMT, dtype: float64, B    0.197214\n",
       " N    0.088806\n",
       " P    0.087179\n",
       " A    0.085989\n",
       " W    0.062783\n",
       " Name: NTEE_CD, dtype: float64, 2014    0.074811\n",
       " 2015    0.052715\n",
       " 2016    0.051775\n",
       " 2017    0.045742\n",
       " 2013    0.031564\n",
       " Name: RULEYEAR, dtype: float64]"
      ]
     },
     "execution_count": 61,
     "metadata": {},
     "output_type": "execute_result"
    }
   ],
   "source": [
    "top_values = []\n",
    "for col in df.columns:\n",
    "    top_values.append(df[col].value_counts(normalize=True)[:5])\n",
    "top_values"
   ]
  },
  {
   "cell_type": "markdown",
   "metadata": {},
   "source": [
    "We can see here that most of our classes aren't balanced throughout the data. While not ideal, we can still use different methods to get around the imbalanced data set. I will still plan on running a base line model. We need to preform scaling for the continuous columns that are left and then create dummy variable for the categorical columns."
   ]
  },
  {
   "cell_type": "code",
   "execution_count": 62,
   "metadata": {},
   "outputs": [],
   "source": [
    "from sklearn.preprocessing import StandardScaler\n",
    "scaler = StandardScaler()\n",
    "\n",
    "cont_scaled_full = scaler.fit_transform(df_full[['INCOME_AMT', 'REVENUE_AMT', 'ASSET_AMT']])\n",
    "cont_scaled_post = scaler.fit_transform(df_post[['INCOME_AMT', 'REVENUE_AMT', 'ASSET_AMT']])\n",
    "cont_scaled_downsize = scaler.fit_transform(df_downsize[['INCOME_AMT', 'REVENUE_AMT', 'ASSET_AMT']])"
   ]
  },
  {
   "cell_type": "code",
   "execution_count": 63,
   "metadata": {},
   "outputs": [],
   "source": [
    "df_scaled_full = pd.DataFrame(cont_scaled_full, columns=['INCOME_AMT_scaled', 'REVENUE_AMT_scaled', 'ASSET_AMT_scaled'])\n",
    "df_scaled_post = pd.DataFrame(cont_scaled_post, columns=['INCOME_AMT_scaled', 'REVENUE_AMT_scaled', 'ASSET_AMT_scaled'])\n",
    "df_scaled_downsize = pd.DataFrame(cont_scaled_downsize, columns=['INCOME_AMT_scaled', 'REVENUE_AMT_scaled', 'ASSET_AMT_scaled'])"
   ]
  },
  {
   "cell_type": "code",
   "execution_count": 64,
   "metadata": {},
   "outputs": [],
   "source": [
    "target_full = pd.DataFrame(df_full.NTEE_CD)\n",
    "col_full = df_full.drop(['NTEE_CD'], axis=1)"
   ]
  },
  {
   "cell_type": "code",
   "execution_count": 65,
   "metadata": {},
   "outputs": [],
   "source": [
    "target_post = pd.DataFrame(df_post.NTEE_CD)\n",
    "col_post = df_post.drop(['NTEE_CD'], axis=1)"
   ]
  },
  {
   "cell_type": "code",
   "execution_count": 66,
   "metadata": {},
   "outputs": [],
   "source": [
    "target_down = pd.DataFrame(df_downsize.NTEE_CD)\n",
    "col_down = df_downsize.drop(['NTEE_CD'], axis=1)"
   ]
  },
  {
   "cell_type": "code",
   "execution_count": 67,
   "metadata": {},
   "outputs": [],
   "source": [
    "data_full = pd.get_dummies(col_full, columns=['STATE', 'GROUP', 'SUBSECTION', 'AFFILIATION', \n",
    "                                       'CLASSIFICATION', 'DEDUCTIBILITY', 'FOUNDATION', \n",
    "                                       'ORGANIZATION', 'STATUS', 'FILING_REQ_CD', \n",
    "                                       'PF_FILING_REQ_CD'])"
   ]
  },
  {
   "cell_type": "code",
   "execution_count": 68,
   "metadata": {},
   "outputs": [],
   "source": [
    "data_post = pd.get_dummies(col_post, columns=['STATE', 'GROUP', 'SUBSECTION', 'AFFILIATION', \n",
    "                                       'CLASSIFICATION', 'DEDUCTIBILITY', 'FOUNDATION', \n",
    "                                       'ORGANIZATION', 'STATUS', 'FILING_REQ_CD', \n",
    "                                       'PF_FILING_REQ_CD'])"
   ]
  },
  {
   "cell_type": "code",
   "execution_count": 69,
   "metadata": {},
   "outputs": [],
   "source": [
    "data_down = pd.get_dummies(col_down, columns=['STATE', 'GROUP', 'SUBSECTION', 'AFFILIATION', \n",
    "                                       'CLASSIFICATION', 'DEDUCTIBILITY', 'FOUNDATION', \n",
    "                                       'ORGANIZATION', 'STATUS', 'FILING_REQ_CD', \n",
    "                                       'PF_FILING_REQ_CD'])"
   ]
  },
  {
   "cell_type": "code",
   "execution_count": 70,
   "metadata": {},
   "outputs": [],
   "source": [
    "data_full.INCOME_AMT = df_scaled_full.INCOME_AMT_scaled\n",
    "data_full.ASSET_AMT = df_scaled_full.ASSET_AMT_scaled\n",
    "data_full.REVENUE_AMT = df_scaled_full.REVENUE_AMT_scaled\n",
    "\n",
    "data_post.INCOME_AMT = df_scaled_post.INCOME_AMT_scaled\n",
    "data_post.ASSET_AMT = df_scaled_post.ASSET_AMT_scaled\n",
    "data_post.REVENUE_AMT = df_scaled_post.REVENUE_AMT_scaled\n",
    "\n",
    "data_down.INCOME_AMT = df_scaled_downsize.INCOME_AMT_scaled\n",
    "data_down.ASSET_AMT = df_scaled_downsize.ASSET_AMT_scaled\n",
    "data_down.REVENUE_AMT = df_scaled_downsize.REVENUE_AMT_scaled"
   ]
  },
  {
   "cell_type": "code",
   "execution_count": 71,
   "metadata": {},
   "outputs": [],
   "source": [
    "data_full.drop(labels=['INCOME_AMT', 'REVENUE_AMT', 'ASSET_AMT'], axis=1, inplace=True)\n",
    "data_post.drop(labels=['INCOME_AMT', 'REVENUE_AMT', 'ASSET_AMT'], axis=1, inplace=True)\n",
    "data_down.drop(labels=['INCOME_AMT', 'REVENUE_AMT', 'ASSET_AMT'], axis=1, inplace=True)"
   ]
  },
  {
   "cell_type": "code",
   "execution_count": 72,
   "metadata": {},
   "outputs": [],
   "source": [
    "from sklearn.model_selection import train_test_split\n",
    "X_train_full, X_test_full, y_train_full, y_test_full = train_test_split(data_full, target_full, test_size = .2)"
   ]
  },
  {
   "cell_type": "code",
   "execution_count": 73,
   "metadata": {},
   "outputs": [],
   "source": [
    "X_train_post, X_test_post, y_train_post, y_test_post = train_test_split(data_post, target_post, test_size = .2)"
   ]
  },
  {
   "cell_type": "code",
   "execution_count": 74,
   "metadata": {},
   "outputs": [],
   "source": [
    "X_train_down, X_test_down, y_train_down, y_test_down = train_test_split(data_down, target_down, test_size = .2)"
   ]
  },
  {
   "cell_type": "code",
   "execution_count": 75,
   "metadata": {},
   "outputs": [],
   "source": [
    "X_train_post.to_pickle('X_train_post')\n",
    "X_test_post.to_pickle('X_test_post')\n",
    "y_train_post.to_pickle('y_train_post')\n",
    "y_test_post.to_pickle('y_test_post')"
   ]
  },
  {
   "cell_type": "code",
   "execution_count": 76,
   "metadata": {},
   "outputs": [],
   "source": [
    "X_train_down.to_pickle('X_train_down')\n",
    "X_test_down.to_pickle('X_test_down')\n",
    "y_train_down.to_pickle('y_train_down')\n",
    "y_test_down.to_pickle('y_test_down')"
   ]
  },
  {
   "cell_type": "code",
   "execution_count": 77,
   "metadata": {},
   "outputs": [],
   "source": [
    "X_train_full.to_pickle('X_train_full')\n",
    "X_test_full.to_pickle('X_test_full')\n",
    "y_train_full.to_pickle('y_train_full')\n",
    "y_test_full.to_pickle('y_test_full')"
   ]
  },
  {
   "cell_type": "markdown",
   "metadata": {
    "toc-hr-collapsed": true
   },
   "source": [
    "\n",
    "## Data Sets \n",
    "___"
   ]
  },
  {
   "cell_type": "markdown",
   "metadata": {},
   "source": [
    "### Full"
   ]
  },
  {
   "cell_type": "code",
   "execution_count": 1,
   "metadata": {},
   "outputs": [],
   "source": [
    "import matplotlib.pyplot as plt\n",
    "import pandas as pd\n",
    "import numpy as np\n",
    "\n",
    "X_train_full = pd.read_pickle('X_train_full')\n",
    "y_train_full = pd.read_pickle('y_train_full')\n",
    "X_test_full = pd.read_pickle('X_test_full')\n",
    "y_test_full = pd.read_pickle('y_test_full')"
   ]
  },
  {
   "cell_type": "markdown",
   "metadata": {},
   "source": [
    "___"
   ]
  },
  {
   "cell_type": "markdown",
   "metadata": {},
   "source": [
    "### Post - 1995"
   ]
  },
  {
   "cell_type": "code",
   "execution_count": 2,
   "metadata": {},
   "outputs": [],
   "source": [
    "import matplotlib.pyplot as plt\n",
    "import pandas as pd\n",
    "import numpy as np\n",
    "\n",
    "X_train_post = pd.read_pickle('X_train_post')\n",
    "y_train_post = pd.read_pickle('y_train_post')\n",
    "X_test_post = pd.read_pickle('X_test_post')\n",
    "y_test_post = pd.read_pickle('y_test_post')"
   ]
  },
  {
   "cell_type": "markdown",
   "metadata": {},
   "source": [
    "___"
   ]
  },
  {
   "cell_type": "markdown",
   "metadata": {},
   "source": [
    "### Downsized"
   ]
  },
  {
   "cell_type": "code",
   "execution_count": 3,
   "metadata": {},
   "outputs": [],
   "source": [
    "import matplotlib.pyplot as plt\n",
    "import pandas as pd\n",
    "import numpy as np\n",
    "\n",
    "X_train_down = pd.read_pickle('X_train_down')\n",
    "y_train_down = pd.read_pickle('y_train_down')\n",
    "X_test_down = pd.read_pickle('X_test_down')\n",
    "y_test_down = pd.read_pickle('y_test_down') "
   ]
  },
  {
   "cell_type": "markdown",
   "metadata": {},
   "source": [
    "___"
   ]
  },
  {
   "cell_type": "markdown",
   "metadata": {
    "toc-hr-collapsed": false
   },
   "source": [
    "# MODELS \n",
    "\n",
    "Starting off with a simple model to give us a baseline. Our target consists of 26 classes. If any of these Nonprofits were categorized truly at random, the chance of getting any one entry correct would be roughly 4%. The overall goal is to obtain the highest accuracy as we can."
   ]
  },
  {
   "cell_type": "code",
   "execution_count": 22,
   "metadata": {},
   "outputs": [],
   "source": [
    "results = {'DecisionTree': {'Full' : {},\n",
    "                            'Post' : {},\n",
    "                            'Down' : {}},\n",
    "          'RandomForest' : {'Full' : {},\n",
    "                            'Post' : {},\n",
    "                            'Down' : {}},\n",
    "          'XGB'          : {'Full' : {},\n",
    "                            'Post' : {},\n",
    "                            'Down' : {}}} #Dictionary to keep track of results of all the models"
   ]
  },
  {
   "cell_type": "markdown",
   "metadata": {
    "toc-hr-collapsed": true
   },
   "source": [
    "## Decision Tree"
   ]
  },
  {
   "cell_type": "code",
   "execution_count": 23,
   "metadata": {},
   "outputs": [],
   "source": [
    "from sklearn.model_selection import train_test_split\n",
    "from sklearn.metrics import accuracy_score, roc_curve, auc\n",
    "from sklearn import tree \n",
    "from sklearn.preprocessing import LabelEncoder\n",
    "from sklearn.externals.six import StringIO  \n",
    "from IPython.display import Image  \n",
    "from sklearn.tree import export_graphviz\n",
    "from yellowbrick.classifier import ConfusionMatrix\n",
    "import time"
   ]
  },
  {
   "cell_type": "code",
   "execution_count": 24,
   "metadata": {},
   "outputs": [],
   "source": [
    "from sklearn.tree import DecisionTreeClassifier\n",
    "\n",
    "clf_DT = DecisionTreeClassifier(max_features='auto', max_depth=10, min_samples_split=1000)"
   ]
  },
  {
   "cell_type": "markdown",
   "metadata": {},
   "source": [
    "### Decision Tree Full"
   ]
  },
  {
   "cell_type": "code",
   "execution_count": 25,
   "metadata": {},
   "outputs": [
    {
     "name": "stdout",
     "output_type": "stream",
     "text": [
      "-------113.40391278266907s seconds------\n"
     ]
    }
   ],
   "source": [
    "start_time = time.time()\n",
    "\n",
    "clf_DT.fit(X_train_full, y_train_full)\n",
    "\n",
    "fit_time = (time.time() - start_time)\n",
    "print(f'-------{fit_time}s seconds------')\n",
    "results['DecisionTree']['Full']['FitTime'] = fit_time"
   ]
  },
  {
   "cell_type": "code",
   "execution_count": 26,
   "metadata": {},
   "outputs": [],
   "source": [
    "y_hat_full = clf_DT.predict(X_test_full)"
   ]
  },
  {
   "cell_type": "code",
   "execution_count": 27,
   "metadata": {},
   "outputs": [
    {
     "name": "stdout",
     "output_type": "stream",
     "text": [
      "Accuracy is :23.610336493772078\n"
     ]
    }
   ],
   "source": [
    "acc = accuracy_score(y_test_full,y_hat_full) * 100\n",
    "print(\"Accuracy is :{0}\".format(acc))\n",
    "results['DecisionTree']['Full']['Accuracy'] = acc"
   ]
  },
  {
   "cell_type": "code",
   "execution_count": 28,
   "metadata": {},
   "outputs": [
    {
     "data": {
      "image/png": "[encoded data removed]",
      "text/plain": [
       "<Figure size 1296x864 with 1 Axes>"
      ]
     },
     "metadata": {},
     "output_type": "display_data"
    }
   ],
   "source": [
    "from yellowbrick.classifier import ConfusionMatrix\n",
    "fig, ax = plt.subplots(figsize=(18,12)) #Making the final out put a bit more readable than the standard\n",
    "cm = ConfusionMatrix(clf_DT, ax=ax) #This instance takes in an axes to add to a exisiting figure.\n",
    "\n",
    "cm.score(X_test_full, y_test_full)\n",
    "\n",
    "# How did we do?\n",
    "cm.poof()"
   ]
  },
  {
   "cell_type": "markdown",
   "metadata": {},
   "source": [
    "### Decision Tree Post"
   ]
  },
  {
   "cell_type": "code",
   "execution_count": 29,
   "metadata": {},
   "outputs": [
    {
     "name": "stdout",
     "output_type": "stream",
     "text": [
      "-------45.66447949409485s seconds------\n"
     ]
    }
   ],
   "source": [
    "start_time = time.time()\n",
    "\n",
    "clf_DT.fit(X_train_post, y_train_post)\n",
    "\n",
    "fit_time = (time.time() - start_time)\n",
    "print(f'-------{fit_time}s seconds------')\n",
    "results['DecisionTree']['Post']['FitTime'] = fit_time"
   ]
  },
  {
   "cell_type": "code",
   "execution_count": 30,
   "metadata": {},
   "outputs": [],
   "source": [
    "y_hat_post = clf_DT.predict(X_test_post)"
   ]
  },
  {
   "cell_type": "code",
   "execution_count": 31,
   "metadata": {},
   "outputs": [
    {
     "name": "stdout",
     "output_type": "stream",
     "text": [
      "Accuracy is :23.610336493772078\n"
     ]
    }
   ],
   "source": [
    "acc = accuracy_score(y_test_full,y_hat_full) * 100\n",
    "print(\"Accuracy is :{0}\".format(acc))\n",
    "results['DecisionTree']['Post']['Accuracy'] = acc"
   ]
  },
  {
   "cell_type": "code",
   "execution_count": 32,
   "metadata": {},
   "outputs": [
    {
     "data": {
      "image/png": "[encoded data removed]",
      "text/plain": [
       "<Figure size 1296x864 with 1 Axes>"
      ]
     },
     "metadata": {},
     "output_type": "display_data"
    }
   ],
   "source": [
    "from yellowbrick.classifier import ConfusionMatrix\n",
    "fig, ax = plt.subplots(figsize=(18,12)) #Making the final out put a bit more readable than the standard\n",
    "cm = ConfusionMatrix(clf_DT, ax=ax) #This instance takes in an axes to add to a exisiting figure.\n",
    "\n",
    "cm.score(X_test_post, y_test_post)\n",
    "\n",
    "# How did we do?\n",
    "cm.poof()"
   ]
  },
  {
   "cell_type": "markdown",
   "metadata": {},
   "source": [
    "### Decision Tree Downsized"
   ]
  },
  {
   "cell_type": "code",
   "execution_count": 33,
   "metadata": {},
   "outputs": [
    {
     "name": "stdout",
     "output_type": "stream",
     "text": [
      "-------5.687457323074341s seconds------\n"
     ]
    }
   ],
   "source": [
    "start_time = time.time()\n",
    "\n",
    "clf_DT.fit(X_train_down, y_train_down)\n",
    "fit_time = (time.time() - start_time)\n",
    "print(f'-------{fit_time}s seconds------')\n",
    "results['DecisionTree']['Down']['FitTime'] = fit_time"
   ]
  },
  {
   "cell_type": "code",
   "execution_count": 34,
   "metadata": {},
   "outputs": [],
   "source": [
    "y_hat_full = clf_DT.predict(X_test_down)"
   ]
  },
  {
   "cell_type": "code",
   "execution_count": 35,
   "metadata": {},
   "outputs": [
    {
     "ename": "ValueError",
     "evalue": "Found input variables with inconsistent numbers of samples: [231297, 47499]",
     "output_type": "error",
     "traceback": [
      "\u001b[1;31m---------------------------------------------------------------------------\u001b[0m",
      "\u001b[1;31mValueError\u001b[0m                                Traceback (most recent call last)",
      "\u001b[1;32m<ipython-input-35-862158c445e3>\u001b[0m in \u001b[0;36m<module>\u001b[1;34m\u001b[0m\n\u001b[1;32m----> 1\u001b[1;33m \u001b[0macc\u001b[0m \u001b[1;33m=\u001b[0m \u001b[0maccuracy_score\u001b[0m\u001b[1;33m(\u001b[0m\u001b[0my_test_full\u001b[0m\u001b[1;33m,\u001b[0m\u001b[0my_hat_full\u001b[0m\u001b[1;33m)\u001b[0m \u001b[1;33m*\u001b[0m \u001b[1;36m100\u001b[0m\u001b[1;33m\u001b[0m\u001b[1;33m\u001b[0m\u001b[0m\n\u001b[0m\u001b[0;32m      2\u001b[0m \u001b[0mprint\u001b[0m\u001b[1;33m(\u001b[0m\u001b[1;34m\"Accuracy is :{0}\"\u001b[0m\u001b[1;33m.\u001b[0m\u001b[0mformat\u001b[0m\u001b[1;33m(\u001b[0m\u001b[0macc\u001b[0m\u001b[1;33m)\u001b[0m\u001b[1;33m)\u001b[0m\u001b[1;33m\u001b[0m\u001b[1;33m\u001b[0m\u001b[0m\n\u001b[0;32m      3\u001b[0m \u001b[0mresults\u001b[0m\u001b[1;33m[\u001b[0m\u001b[1;34m'DecisionTree'\u001b[0m\u001b[1;33m]\u001b[0m\u001b[1;33m[\u001b[0m\u001b[1;34m'Down'\u001b[0m\u001b[1;33m]\u001b[0m\u001b[1;33m[\u001b[0m\u001b[1;34m'Accuracy'\u001b[0m\u001b[1;33m]\u001b[0m \u001b[1;33m=\u001b[0m \u001b[0macc\u001b[0m\u001b[1;33m\u001b[0m\u001b[1;33m\u001b[0m\u001b[0m\n",
      "\u001b[1;32m~\\Anaconda3\\lib\\site-packages\\sklearn\\metrics\\classification.py\u001b[0m in \u001b[0;36maccuracy_score\u001b[1;34m(y_true, y_pred, normalize, sample_weight)\u001b[0m\n\u001b[0;32m    174\u001b[0m \u001b[1;33m\u001b[0m\u001b[0m\n\u001b[0;32m    175\u001b[0m     \u001b[1;31m# Compute accuracy for each possible representation\u001b[0m\u001b[1;33m\u001b[0m\u001b[1;33m\u001b[0m\u001b[1;33m\u001b[0m\u001b[0m\n\u001b[1;32m--> 176\u001b[1;33m     \u001b[0my_type\u001b[0m\u001b[1;33m,\u001b[0m \u001b[0my_true\u001b[0m\u001b[1;33m,\u001b[0m \u001b[0my_pred\u001b[0m \u001b[1;33m=\u001b[0m \u001b[0m_check_targets\u001b[0m\u001b[1;33m(\u001b[0m\u001b[0my_true\u001b[0m\u001b[1;33m,\u001b[0m \u001b[0my_pred\u001b[0m\u001b[1;33m)\u001b[0m\u001b[1;33m\u001b[0m\u001b[1;33m\u001b[0m\u001b[0m\n\u001b[0m\u001b[0;32m    177\u001b[0m     \u001b[0mcheck_consistent_length\u001b[0m\u001b[1;33m(\u001b[0m\u001b[0my_true\u001b[0m\u001b[1;33m,\u001b[0m \u001b[0my_pred\u001b[0m\u001b[1;33m,\u001b[0m \u001b[0msample_weight\u001b[0m\u001b[1;33m)\u001b[0m\u001b[1;33m\u001b[0m\u001b[1;33m\u001b[0m\u001b[0m\n\u001b[0;32m    178\u001b[0m     \u001b[1;32mif\u001b[0m \u001b[0my_type\u001b[0m\u001b[1;33m.\u001b[0m\u001b[0mstartswith\u001b[0m\u001b[1;33m(\u001b[0m\u001b[1;34m'multilabel'\u001b[0m\u001b[1;33m)\u001b[0m\u001b[1;33m:\u001b[0m\u001b[1;33m\u001b[0m\u001b[1;33m\u001b[0m\u001b[0m\n",
      "\u001b[1;32m~\\Anaconda3\\lib\\site-packages\\sklearn\\metrics\\classification.py\u001b[0m in \u001b[0;36m_check_targets\u001b[1;34m(y_true, y_pred)\u001b[0m\n\u001b[0;32m     69\u001b[0m     \u001b[0my_pred\u001b[0m \u001b[1;33m:\u001b[0m \u001b[0marray\u001b[0m \u001b[1;32mor\u001b[0m \u001b[0mindicator\u001b[0m \u001b[0mmatrix\u001b[0m\u001b[1;33m\u001b[0m\u001b[1;33m\u001b[0m\u001b[0m\n\u001b[0;32m     70\u001b[0m     \"\"\"\n\u001b[1;32m---> 71\u001b[1;33m     \u001b[0mcheck_consistent_length\u001b[0m\u001b[1;33m(\u001b[0m\u001b[0my_true\u001b[0m\u001b[1;33m,\u001b[0m \u001b[0my_pred\u001b[0m\u001b[1;33m)\u001b[0m\u001b[1;33m\u001b[0m\u001b[1;33m\u001b[0m\u001b[0m\n\u001b[0m\u001b[0;32m     72\u001b[0m     \u001b[0mtype_true\u001b[0m \u001b[1;33m=\u001b[0m \u001b[0mtype_of_target\u001b[0m\u001b[1;33m(\u001b[0m\u001b[0my_true\u001b[0m\u001b[1;33m)\u001b[0m\u001b[1;33m\u001b[0m\u001b[1;33m\u001b[0m\u001b[0m\n\u001b[0;32m     73\u001b[0m     \u001b[0mtype_pred\u001b[0m \u001b[1;33m=\u001b[0m \u001b[0mtype_of_target\u001b[0m\u001b[1;33m(\u001b[0m\u001b[0my_pred\u001b[0m\u001b[1;33m)\u001b[0m\u001b[1;33m\u001b[0m\u001b[1;33m\u001b[0m\u001b[0m\n",
      "\u001b[1;32m~\\Anaconda3\\lib\\site-packages\\sklearn\\utils\\validation.py\u001b[0m in \u001b[0;36mcheck_consistent_length\u001b[1;34m(*arrays)\u001b[0m\n\u001b[0;32m    233\u001b[0m     \u001b[1;32mif\u001b[0m \u001b[0mlen\u001b[0m\u001b[1;33m(\u001b[0m\u001b[0muniques\u001b[0m\u001b[1;33m)\u001b[0m \u001b[1;33m>\u001b[0m \u001b[1;36m1\u001b[0m\u001b[1;33m:\u001b[0m\u001b[1;33m\u001b[0m\u001b[1;33m\u001b[0m\u001b[0m\n\u001b[0;32m    234\u001b[0m         raise ValueError(\"Found input variables with inconsistent numbers of\"\n\u001b[1;32m--> 235\u001b[1;33m                          \" samples: %r\" % [int(l) for l in lengths])\n\u001b[0m\u001b[0;32m    236\u001b[0m \u001b[1;33m\u001b[0m\u001b[0m\n\u001b[0;32m    237\u001b[0m \u001b[1;33m\u001b[0m\u001b[0m\n",
      "\u001b[1;31mValueError\u001b[0m: Found input variables with inconsistent numbers of samples: [231297, 47499]"
     ]
    }
   ],
   "source": [
    "acc = accuracy_score(y_test_full,y_hat_full) * 100\n",
    "print(\"Accuracy is :{0}\".format(acc))\n",
    "results['DecisionTree']['Down']['Accuracy'] = acc"
   ]
  },
  {
   "cell_type": "code",
   "execution_count": null,
   "metadata": {},
   "outputs": [],
   "source": [
    "from yellowbrick.classifier import ConfusionMatrix\n",
    "fig, ax = plt.subplots(figsize=(18,12)) #Making the final out put a bit more readable than the standard\n",
    "cm = ConfusionMatrix(clf_DT, ax=ax) #This instance takes in an axes to add to a exisiting figure.\n",
    "\n",
    "cm.score(X_test_down, y_test_down)\n",
    "\n",
    "# How did we do?\n",
    "cm.poof()"
   ]
  },
  {
   "cell_type": "markdown",
   "metadata": {},
   "source": [
    "With both sets of data, there are similar classes that were heavily chosen over others [B, N, S, Y]. Both sets also placed a lot of information into category B, which is to be expected since it is out largest class at almost 20% of the data.\n",
    "\n",
    "Now lets run some models that can account for imbalanced classes."
   ]
  },
  {
   "cell_type": "markdown",
   "metadata": {
    "toc-hr-collapsed": true
   },
   "source": [
    "## Random Forest"
   ]
  },
  {
   "cell_type": "code",
   "execution_count": null,
   "metadata": {},
   "outputs": [],
   "source": [
    "from sklearn.ensemble import RandomForestClassifier\n",
    "\n",
    "forest = RandomForestClassifier(n_estimators=100, max_depth= 10, max_features='auto',min_samples_split=1000)"
   ]
  },
  {
   "cell_type": "markdown",
   "metadata": {},
   "source": [
    "### Random Forest Full"
   ]
  },
  {
   "cell_type": "code",
   "execution_count": null,
   "metadata": {},
   "outputs": [],
   "source": [
    "start_time = time.time()\n",
    "\n",
    "forest.fit(X_train_full, y_train_full)\n",
    "\n",
    "fit_time = (time.time() - start_time)\n",
    "print(f'-------{fit_time}s seconds------')\n",
    "results['RandomForest']['Full']['FitTime'] = fit_time"
   ]
  },
  {
   "cell_type": "code",
   "execution_count": null,
   "metadata": {},
   "outputs": [],
   "source": [
    "acc = forest.score(X_train_full, y_train_full) * 100\n",
    "print(\"Accuracy is :{0}\".format(acc))\n",
    "results['RandomForest']['Full']['Accuracy'] = acc"
   ]
  },
  {
   "cell_type": "code",
   "execution_count": null,
   "metadata": {},
   "outputs": [],
   "source": [
    "fig, ax = plt.subplots(figsize=(18,12)) #Making the final out put a bit more readable than the standard\n",
    "cm = ConfusionMatrix(forest, ax=ax) #This instance takes in an axes to add to a exisiting figure.\n",
    "\n",
    "cm.score(X_test_full, y_test_full)\n",
    "\n",
    "# How did we do?\n",
    "cm.poof()"
   ]
  },
  {
   "cell_type": "markdown",
   "metadata": {},
   "source": [
    "### Random Forest Post"
   ]
  },
  {
   "cell_type": "code",
   "execution_count": null,
   "metadata": {},
   "outputs": [],
   "source": [
    "start_time = time.time()\n",
    "\n",
    "forest.fit(X_train_post, y_train_post)\n",
    "\n",
    "fit_time = (time.time() - start_time)\n",
    "print(f'-------{fit_time}s seconds------')\n",
    "results['RandomForest']['Post']['FitTime'] = fit_time"
   ]
  },
  {
   "cell_type": "code",
   "execution_count": null,
   "metadata": {},
   "outputs": [],
   "source": [
    "acc = forest.score(X_train_post, y_train_post) * 100\n",
    "print(\"Accuracy is :{0}\".format(acc))\n",
    "results['RandomForest']['Post']['Accuracy'] = acc"
   ]
  },
  {
   "cell_type": "code",
   "execution_count": null,
   "metadata": {},
   "outputs": [],
   "source": [
    "fig, ax = plt.subplots(figsize=(18,12)) #Making the final out put a bit more readable than the standard\n",
    "cm = ConfusionMatrix(forest, ax=ax) #This instance takes in an axes to add to a exisiting figure.\n",
    "\n",
    "cm.score(X_test_post, y_test_post)\n",
    "\n",
    "# How did we do?\n",
    "cm.poof()"
   ]
  },
  {
   "cell_type": "markdown",
   "metadata": {},
   "source": [
    "### Random Forest Downsized"
   ]
  },
  {
   "cell_type": "code",
   "execution_count": null,
   "metadata": {},
   "outputs": [],
   "source": [
    "start_time = time.time()\n",
    "\n",
    "forest.fit(X_train_down, y_train_down)\n",
    "\n",
    "fit_time = (time.time() - start_time)\n",
    "print(f'-------{fit_time}s seconds------')\n",
    "results['RandomForest']['Down']['FitTime'] = fit_time"
   ]
  },
  {
   "cell_type": "code",
   "execution_count": null,
   "metadata": {},
   "outputs": [],
   "source": [
    "acc = forest_post.score(X_train_down, y_train_down) * 100\n",
    "print(\"Accuracy is :{0}\".format(acc))\n",
    "results['RandomForest']['Down']['Accuracy'] = acc"
   ]
  },
  {
   "cell_type": "code",
   "execution_count": null,
   "metadata": {},
   "outputs": [],
   "source": [
    "fig, ax = plt.subplots(figsize=(18,12)) #Making the final out put a bit more readable than the standard\n",
    "cm = ConfusionMatrix(forest, ax=ax) #This instance takes in an axes to add to a exisiting figure.\n",
    "\n",
    "cm.score(X_test_down, y_test_down)\n",
    "\n",
    "# How did we do?\n",
    "cm.poof()"
   ]
  },
  {
   "cell_type": "markdown",
   "metadata": {},
   "source": [
    "As a baseline, the accuracy of my model increased by 7%. Lets run XGBoost and see if it does any better. I will then perform GridSearchCV on the model with the highest baseline accuracy."
   ]
  },
  {
   "cell_type": "markdown",
   "metadata": {
    "toc-hr-collapsed": false
   },
   "source": [
    "## XGBoost\n",
    "\n",
    "At this point, lets try out the powerhouse that is XGBoost. Before changing the data sets in the memory and computationally efficient [DMatrix](https://xgboost.readthedocs.io/en/latest/python/python_api.html#xgboost.DMatrix) data type, I will need to process my target variable once more. The DMatrix prefers integers rather than strings, so a quick LabelEncoder will take care of that."
   ]
  },
  {
   "cell_type": "code",
   "execution_count": null,
   "metadata": {},
   "outputs": [],
   "source": [
    "import xgboost as xgb\n",
    "from sklearn.preprocessing import LabelEncoder\n",
    "from sklearn.model_selection import GridSearchCV\n",
    "\n",
    "le = LabelEncoder()"
   ]
  },
  {
   "cell_type": "code",
   "execution_count": null,
   "metadata": {},
   "outputs": [],
   "source": [
    "#le.fit(y_train_full)\n",
    "#list(le.classes_)\n",
    "#y_train_le_full = le.transform(y_train_full.NTEE_CD)\n",
    "#y_test_le_full = le.transform(y_test_full.NTEE_CD)"
   ]
  },
  {
   "cell_type": "code",
   "execution_count": null,
   "metadata": {},
   "outputs": [],
   "source": [
    "# le.fit(y_train_post)\n",
    "# list(le.classes_)\n",
    "# y_train_le_post = le.transform(y_train_post.NTEE_CD)\n",
    "# y_test_le_post = le.transform(y_test_post.NTEE_CD)"
   ]
  },
  {
   "cell_type": "code",
   "execution_count": null,
   "metadata": {},
   "outputs": [],
   "source": [
    "#dtrain_full = xgb.DMatrix(X_train_full, label=y_train_le_full)\n",
    "#dvalid_full = xgb.DMatrix(X_test_full, label=y_test_le_full)"
   ]
  },
  {
   "cell_type": "code",
   "execution_count": null,
   "metadata": {},
   "outputs": [],
   "source": [
    "dtrain_post = xgb.DMatrix(X_train_post, label=y_train_le_post)\n",
    "#dvalid_post = xgb.DMatrix(X_test_post, label=y_test_le_post)"
   ]
  },
  {
   "cell_type": "code",
   "execution_count": null,
   "metadata": {},
   "outputs": [],
   "source": [
    "le.fit(y_train_down)\n",
    "list(le.classes_)\n",
    "y_train_le_down = le.transform(y_train_down.NTEE_CD)\n",
    "y_test_le_down = le.transform(y_test_down.NTEE_CD)"
   ]
  },
  {
   "cell_type": "code",
   "execution_count": null,
   "metadata": {},
   "outputs": [],
   "source": [
    "dtrain_down = xgb.DMatrix(X_train_down, label=y_train_le_down)\n",
    "dvalid_down =  xgb.DMatrix(X_test_down, label=y_test_le_down)"
   ]
  },
  {
   "cell_type": "code",
   "execution_count": null,
   "metadata": {},
   "outputs": [],
   "source": [
    "from sklearn.metrics import accuracy_score\n",
    "from sklearn.model_selection import GridSearchCV"
   ]
  },
  {
   "cell_type": "code",
   "execution_count": null,
   "metadata": {},
   "outputs": [],
   "source": [
    "params = {\n",
    "    'max_depth': 4,\n",
    "    'objective': 'multi:softprob',\n",
    "    'num_class': 26\n",
    "}\n",
    "\n",
    "#multi:softmax: set XGBoost to do multiclass classification using the softmax objective, you also need to set num_class(number of classes)\n",
    "\n",
    "#multi:softprob: same as softmax, but output a vector of ndata * nclass, which can be further reshaped to ndata * nclass matrix. \n",
    "#                The result contains predicted probability of each data point belonging to each class."
   ]
  },
  {
   "cell_type": "code",
   "execution_count": null,
   "metadata": {},
   "outputs": [],
   "source": [
    "import time\n",
    "\n",
    "start_time = time.time()\n",
    "\n",
    "model_post = xgb.train(params, dtrain_down)\n",
    "\n",
    "print(\"Whole process: %s seconds ---\" % (time.time() - start_time))"
   ]
  },
  {
   "cell_type": "code",
   "execution_count": null,
   "metadata": {},
   "outputs": [],
   "source": [
    "params = {\n",
    "    'learning_rate' : [.1, .3, .4],\n",
    "    'max_depth': [4, 5, 6],\n",
    "    'objective': ['multi:softmax', 'multi:softprob']\n",
    "}\n",
    "\n",
    "#multi:softmax: set XGBoost to do multiclass classification using the softmax objective, you also need to set num_class(number of classes)\n",
    "\n",
    "#multi:softprob: same as softmax, but output a vector of ndata * nclass, which can be further reshaped to ndata * nclass matrix. \n",
    "#                The result contains predicted probability of each data point belonging to each class."
   ]
  },
  {
   "cell_type": "code",
   "execution_count": null,
   "metadata": {},
   "outputs": [],
   "source": [
    "import time\n",
    "\n",
    "model_down = xgb.XGBClassifier()\n",
    "\n",
    "start_time = time.time()\n",
    "\n",
    "grid_clf_down = GridSearchCV(model_down, params, cv=3)\n",
    "grid_clf_down.fit(X_train_down, y_train_le_down)\n",
    "\n",
    "print(\"Whole process: %s seconds ---\" % (time.time() - start_time))"
   ]
  },
  {
   "cell_type": "code",
   "execution_count": null,
   "metadata": {},
   "outputs": [],
   "source": [
    "import pickle\n",
    "pickle.dump(model_post, open(\"post.pickle.dat\", \"wb\"))"
   ]
  },
  {
   "cell_type": "code",
   "execution_count": null,
   "metadata": {},
   "outputs": [],
   "source": [
    "import pickle\n",
    "model_post = pickle.load(open(\"post.pickle.dat\", \"rb\"))"
   ]
  },
  {
   "cell_type": "code",
   "execution_count": null,
   "metadata": {},
   "outputs": [],
   "source": [
    "import time\n",
    "import numpy as np"
   ]
  },
  {
   "cell_type": "code",
   "execution_count": null,
   "metadata": {},
   "outputs": [],
   "source": [
    "from sklearn.metrics import classification_report\n",
    "\n",
    "start = time.time()\n",
    "\n",
    "pred_le = model_post.predict(dvalid_post)\n",
    "\n",
    "pred = le.inverse_transform(pred_le.astype('int')) #Label Encoder isn't sure how read the numerical numbers so it runs into an error if the type isn't specificed. int36/int64 good too\n",
    "print(classification_report(y_test_post, pred))\n",
    "print(f'This took {time.time()-start} seconds')"
   ]
  },
  {
   "cell_type": "code",
   "execution_count": null,
   "metadata": {},
   "outputs": [],
   "source": [
    "acc = accuracy_score(y_test_post, pred) * 100\n",
    "print(\"Accuracy is :{0}\".format(acc))"
   ]
  },
  {
   "cell_type": "code",
   "execution_count": null,
   "metadata": {},
   "outputs": [],
   "source": [
    "from yellowbrick.classifier import ROCAUC\n",
    "\n",
    "rocauc = ROCAUC(model_post, size=(1080, 720), classes=y_test_le_post)\n",
    "\n",
    "rocauc.score(X_test_post, y_test_post) \n",
    "\n",
    "r = rocauc.poof()\n"
   ]
  },
  {
   "cell_type": "code",
   "execution_count": null,
   "metadata": {},
   "outputs": [],
   "source": [
    "evals_result = model_post.evals_result()\n",
    "\n",
    "print('Access logloss metric directly from validation_0:')\n",
    "print(evals_result['validation_0']['logloss'])\n",
    "\n",
    "print('')\n",
    "print('Access metrics through a loop:')\n",
    "for e_name, e_mtrs in evals_result.items():\n",
    "    print('- {}'.format(e_name))\n",
    "    for e_mtr_name, e_mtr_vals in e_mtrs.items():\n",
    "        print('   - {}'.format(e_mtr_name))\n",
    "        print('      - {}'.format(e_mtr_vals))\n",
    " \n",
    "print('')\n",
    "print('Access complete dict:')\n",
    "print(evals_result)"
   ]
  },
  {
   "cell_type": "markdown",
   "metadata": {},
   "source": [
    "# TESTING AREA"
   ]
  },
  {
   "cell_type": "code",
   "execution_count": 36,
   "metadata": {},
   "outputs": [
    {
     "data": {
      "text/plain": [
       "{'DecisionTree': {'Full': {'FitTime': 113.40391278266907,\n",
       "   'Accuracy': 23.610336493772078},\n",
       "  'Post': {'FitTime': 45.66447949409485, 'Accuracy': 23.610336493772078},\n",
       "  'Down': {'FitTime': 5.687457323074341}},\n",
       " 'RandomForest': {'Full': {}, 'Post': {}, 'Down': {}},\n",
       " 'XGB': {'Full': {}, 'Post': {}, 'Down': {}}}"
      ]
     },
     "execution_count": 36,
     "metadata": {},
     "output_type": "execute_result"
    }
   ],
   "source": [
    "results"
   ]
  },
  {
   "cell_type": "code",
   "execution_count": null,
   "metadata": {},
   "outputs": [],
   "source": []
  }
 ],
 "metadata": {
  "kernelspec": {
   "display_name": "Python 3",
   "language": "python",
   "name": "python3"
  },
  "language_info": {
   "codemirror_mode": {
    "name": "ipython",
    "version": 3
   },
   "file_extension": ".py",
   "mimetype": "text/x-python",
   "name": "python",
   "nbconvert_exporter": "python",
   "pygments_lexer": "ipython3",
   "version": "3.6.7"
  },
  "toc-autonumbering": true,
  "toc-showcode": false,
  "toc-showmarkdowntxt": false,
  "toc-showtags": false
 },
 "nbformat": 4,
 "nbformat_minor": 2
}
